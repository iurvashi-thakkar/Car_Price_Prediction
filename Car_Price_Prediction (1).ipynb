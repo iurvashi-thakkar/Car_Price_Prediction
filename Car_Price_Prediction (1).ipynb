{
  "cells": [
    {
      "cell_type": "code",
      "execution_count": null,
      "metadata": {
        "id": "mr3nx_kI1gYe"
      },
      "outputs": [],
      "source": [
        "from pyspark.sql import SparkSession"
      ]
    },
    {
      "cell_type": "code",
      "execution_count": null,
      "metadata": {
        "colab": {
          "base_uri": "https://localhost:8080/"
        },
        "id": "8xOUODnL1t96",
        "outputId": "fabc777e-cc0d-4f07-f7ee-0980291e40b5"
      },
      "outputs": [
        {
          "name": "stdout",
          "output_type": "stream",
          "text": [
            "Collecting pyspark\n",
            "  Downloading pyspark-3.2.1.tar.gz (281.4 MB)\n",
            "\u001b[K     |████████████████████████████████| 281.4 MB 36 kB/s \n",
            "\u001b[?25hCollecting py4j==0.10.9.3\n",
            "  Downloading py4j-0.10.9.3-py2.py3-none-any.whl (198 kB)\n",
            "\u001b[K     |████████████████████████████████| 198 kB 27.2 MB/s \n",
            "\u001b[?25hBuilding wheels for collected packages: pyspark\n",
            "  Building wheel for pyspark (setup.py) ... \u001b[?25l\u001b[?25hdone\n",
            "  Created wheel for pyspark: filename=pyspark-3.2.1-py2.py3-none-any.whl size=281853642 sha256=6a6834393c56652026acbafd17625073f877e81b067abadef6b45e93cd240912\n",
            "  Stored in directory: /root/.cache/pip/wheels/9f/f5/07/7cd8017084dce4e93e84e92efd1e1d5334db05f2e83bcef74f\n",
            "Successfully built pyspark\n",
            "Installing collected packages: py4j, pyspark\n",
            "Successfully installed py4j-0.10.9.3 pyspark-3.2.1\n"
          ]
        }
      ],
      "source": [
        "!pip install pyspark"
      ]
    },
    {
      "cell_type": "code",
      "execution_count": null,
      "metadata": {
        "id": "jCS4rg7f1lYW"
      },
      "outputs": [],
      "source": [
        "spark = SparkSession.builder.appName(\"Car-Price\").getOrCreate()"
      ]
    },
    {
      "cell_type": "code",
      "execution_count": null,
      "metadata": {
        "id": "Y55l66SR1-W9"
      },
      "outputs": [],
      "source": [
        "df=spark.read.csv(\"dataset.csv\",header=True,inferSchema=True)"
      ]
    },
    {
      "cell_type": "code",
      "execution_count": null,
      "metadata": {
        "colab": {
          "base_uri": "https://localhost:8080/"
        },
        "id": "OPZHyTw52Brz",
        "outputId": "6e9c6b5d-4b4a-450a-f7bf-37e89f8cfa57"
      },
      "outputs": [
        {
          "name": "stdout",
          "output_type": "stream",
          "text": [
            "+---+--------------------+----------+----+-----------------+---------+------------+----------+----------+-------+----------+-----+----------+-----+\n",
            "|_c0|                Name|  Location|Year|Kilometers_Driven|Fuel_Type|Transmission|Owner_Type|   Mileage| Engine|     Power|Seats| New_Price|Price|\n",
            "+---+--------------------+----------+----+-----------------+---------+------------+----------+----------+-------+----------+-----+----------+-----+\n",
            "|  0|Maruti Wagon R LX...|    Mumbai|2010|            72000|      CNG|      Manual|     First|26.6 km/kg| 998 CC| 58.16 bhp|  5.0|      null| 1.75|\n",
            "|  1|Hyundai Creta 1.6...|      Pune|2015|            41000|   Diesel|      Manual|     First|19.67 kmpl|1582 CC| 126.2 bhp|  5.0|      null| 12.5|\n",
            "|  2|        Honda Jazz V|   Chennai|2011|            46000|   Petrol|      Manual|     First| 18.2 kmpl|1199 CC|  88.7 bhp|  5.0| 8.61 Lakh|  4.5|\n",
            "|  3|   Maruti Ertiga VDI|   Chennai|2012|            87000|   Diesel|      Manual|     First|20.77 kmpl|1248 CC| 88.76 bhp|  7.0|      null|  6.0|\n",
            "|  4|Audi A4 New 2.0 T...|Coimbatore|2013|            40670|   Diesel|   Automatic|    Second| 15.2 kmpl|1968 CC| 140.8 bhp|  5.0|      null|17.74|\n",
            "|  5|Hyundai EON LPG E...| Hyderabad|2012|            75000|      LPG|      Manual|     First|21.1 km/kg| 814 CC|  55.2 bhp|  5.0|      null| 2.35|\n",
            "|  6|Nissan Micra Dies...|    Jaipur|2013|            86999|   Diesel|      Manual|     First|23.08 kmpl|1461 CC|  63.1 bhp|  5.0|      null|  3.5|\n",
            "|  7|Toyota Innova Cry...|    Mumbai|2016|            36000|   Diesel|   Automatic|     First|11.36 kmpl|2755 CC| 171.5 bhp|  8.0|   21 Lakh| 17.5|\n",
            "|  8|Volkswagen Vento ...|      Pune|2013|            64430|   Diesel|      Manual|     First|20.54 kmpl|1598 CC| 103.6 bhp|  5.0|      null|  5.2|\n",
            "|  9|Tata Indica Vista...|   Chennai|2012|            65932|   Diesel|      Manual|    Second| 22.3 kmpl|1248 CC|    74 bhp|  5.0|      null| 1.95|\n",
            "| 10|    Maruti Ciaz Zeta|     Kochi|2018|            25692|   Petrol|      Manual|     First|21.56 kmpl|1462 CC|103.25 bhp|  5.0|10.65 Lakh| 9.95|\n",
            "| 11|Honda City 1.5 V ...|   Kolkata|2012|            60000|   Petrol|   Automatic|     First| 16.8 kmpl|1497 CC| 116.3 bhp|  5.0|      null| 4.49|\n",
            "| 12|Maruti Swift VDI ...|    Jaipur|2015|            64424|   Diesel|      Manual|     First| 25.2 kmpl|1248 CC|    74 bhp|  5.0|      null|  5.6|\n",
            "| 13|Land Rover Range ...|     Delhi|2014|            72000|   Diesel|   Automatic|     First| 12.7 kmpl|2179 CC| 187.7 bhp|  5.0|      null| 27.0|\n",
            "| 14|Land Rover Freela...|      Pune|2012|            85000|   Diesel|   Automatic|    Second|  0.0 kmpl|2179 CC|   115 bhp|  5.0|      null| 17.5|\n",
            "| 15|Mitsubishi Pajero...|     Delhi|2014|           110000|   Diesel|      Manual|     First| 13.5 kmpl|2477 CC|175.56 bhp|  7.0|32.01 Lakh| 15.0|\n",
            "| 16|Honda Amaze S i-D...|     Kochi|2016|            58950|   Diesel|      Manual|     First| 25.8 kmpl|1498 CC|  98.6 bhp|  5.0|      null|  5.4|\n",
            "| 17|Maruti Swift DDiS...|    Jaipur|2017|            25000|   Diesel|      Manual|     First| 28.4 kmpl|1248 CC|    74 bhp|  5.0|      null| 5.99|\n",
            "| 18|Renault Duster 85...|     Kochi|2014|            77469|   Diesel|      Manual|     First|20.45 kmpl|1461 CC|  83.8 bhp|  5.0|      null| 6.34|\n",
            "| 19|Mercedes-Benz New...| Bangalore|2014|            78500|   Diesel|   Automatic|     First|14.84 kmpl|2143 CC|167.62 bhp|  5.0|      null| 28.0|\n",
            "+---+--------------------+----------+----+-----------------+---------+------------+----------+----------+-------+----------+-----+----------+-----+\n",
            "only showing top 20 rows\n",
            "\n"
          ]
        }
      ],
      "source": [
        "df.show()"
      ]
    },
    {
      "cell_type": "code",
      "execution_count": null,
      "metadata": {
        "colab": {
          "base_uri": "https://localhost:8080/"
        },
        "id": "CDYXzSI82PER",
        "outputId": "51d5f6fb-3f1c-4539-a679-7aa9edb4e3be"
      },
      "outputs": [
        {
          "name": "stdout",
          "output_type": "stream",
          "text": [
            "root\n",
            " |-- _c0: integer (nullable = true)\n",
            " |-- Name: string (nullable = true)\n",
            " |-- Location: string (nullable = true)\n",
            " |-- Year: integer (nullable = true)\n",
            " |-- Kilometers_Driven: integer (nullable = true)\n",
            " |-- Fuel_Type: string (nullable = true)\n",
            " |-- Transmission: string (nullable = true)\n",
            " |-- Owner_Type: string (nullable = true)\n",
            " |-- Mileage: string (nullable = true)\n",
            " |-- Engine: string (nullable = true)\n",
            " |-- Power: string (nullable = true)\n",
            " |-- Seats: double (nullable = true)\n",
            " |-- New_Price: string (nullable = true)\n",
            " |-- Price: double (nullable = true)\n",
            "\n"
          ]
        }
      ],
      "source": [
        "df.printSchema()"
      ]
    },
    {
      "cell_type": "code",
      "execution_count": null,
      "metadata": {
        "id": "iZRAVvZZ2SbU"
      },
      "outputs": [],
      "source": [
        "df=df.drop(\"New_Price\")"
      ]
    },
    {
      "cell_type": "code",
      "execution_count": null,
      "metadata": {
        "colab": {
          "base_uri": "https://localhost:8080/"
        },
        "id": "Z03HL6Px2ptA",
        "outputId": "10d24287-d624-47ed-8a58-24b91602bbde"
      },
      "outputs": [
        {
          "name": "stdout",
          "output_type": "stream",
          "text": [
            "root\n",
            " |-- _c0: integer (nullable = true)\n",
            " |-- Name: string (nullable = true)\n",
            " |-- Location: string (nullable = true)\n",
            " |-- Year: integer (nullable = true)\n",
            " |-- Kilometers_Driven: integer (nullable = true)\n",
            " |-- Fuel_Type: string (nullable = true)\n",
            " |-- Transmission: string (nullable = true)\n",
            " |-- Owner_Type: string (nullable = true)\n",
            " |-- Mileage: string (nullable = true)\n",
            " |-- Engine: string (nullable = true)\n",
            " |-- Power: string (nullable = true)\n",
            " |-- Seats: double (nullable = true)\n",
            " |-- Price: double (nullable = true)\n",
            "\n"
          ]
        }
      ],
      "source": [
        "df.printSchema()"
      ]
    },
    {
      "cell_type": "code",
      "execution_count": null,
      "metadata": {
        "id": "4AqgOGZV2sGs"
      },
      "outputs": [],
      "source": [
        "df=df.drop(\"Location\")"
      ]
    },
    {
      "cell_type": "code",
      "execution_count": null,
      "metadata": {
        "colab": {
          "base_uri": "https://localhost:8080/"
        },
        "id": "2OuDZdCq22du",
        "outputId": "d7767cb2-c83d-4685-9ec0-885cb6c803d9"
      },
      "outputs": [
        {
          "name": "stdout",
          "output_type": "stream",
          "text": [
            "root\n",
            " |-- _c0: integer (nullable = true)\n",
            " |-- Name: string (nullable = true)\n",
            " |-- Year: integer (nullable = true)\n",
            " |-- Kilometers_Driven: integer (nullable = true)\n",
            " |-- Fuel_Type: string (nullable = true)\n",
            " |-- Transmission: string (nullable = true)\n",
            " |-- Owner_Type: string (nullable = true)\n",
            " |-- Mileage: string (nullable = true)\n",
            " |-- Engine: string (nullable = true)\n",
            " |-- Power: string (nullable = true)\n",
            " |-- Seats: double (nullable = true)\n",
            " |-- Price: double (nullable = true)\n",
            "\n"
          ]
        }
      ],
      "source": [
        "df.printSchema()"
      ]
    },
    {
      "cell_type": "code",
      "execution_count": null,
      "metadata": {
        "colab": {
          "base_uri": "https://localhost:8080/"
        },
        "id": "P8UIjJF029p8",
        "outputId": "a65d1a15-8e51-4e5b-e390-ac87536bbfad"
      },
      "outputs": [
        {
          "name": "stdout",
          "output_type": "stream",
          "text": [
            "+--------------------+-----+\n",
            "|                Name|count|\n",
            "+--------------------+-----+\n",
            "|Renault Duster 11...|    3|\n",
            "|Maruti Ciaz 1.4 A...|    1|\n",
            "| Honda City 1.5 S MT|   34|\n",
            "|Toyota Etios Liva GD|    9|\n",
            "|Hyundai i20 1.4 Asta|    3|\n",
            "|Toyota Innova 2.5...|    4|\n",
            "|  Maruti 800 DX BSII|    2|\n",
            "|Toyota Corolla Al...|    3|\n",
            "|Maruti Swift Lxi ...|    5|\n",
            "|Volkswagen Vento ...|    1|\n",
            "|Hyundai Grand i10...|    4|\n",
            "|Volkswagen Vento ...|    1|\n",
            "|    Datsun GO Plus A|    1|\n",
            "|Tata Indica V2 DL...|    1|\n",
            "|     Honda Brio V MT|    7|\n",
            "|Hyundai Verna 1.6...|    4|\n",
            "|Volkswagen Passat...|    1|\n",
            "|Hyundai Xcent 1.2...|    2|\n",
            "|Maruti Swift Dzir...|    5|\n",
            "|Renault Duster 11...|    5|\n",
            "+--------------------+-----+\n",
            "only showing top 20 rows\n",
            "\n"
          ]
        }
      ],
      "source": [
        "df.groupBy(\"Name\").count().show()"
      ]
    },
    {
      "cell_type": "code",
      "execution_count": null,
      "metadata": {
        "colab": {
          "base_uri": "https://localhost:8080/"
        },
        "id": "SOW187Gp3nq2",
        "outputId": "bbe693f7-9714-4413-97fe-8b16448ae72c"
      },
      "outputs": [
        {
          "name": "stdout",
          "output_type": "stream",
          "text": [
            "+---------+-----+\n",
            "|Fuel_Type|count|\n",
            "+---------+-----+\n",
            "|   Diesel| 3205|\n",
            "|      CNG|   56|\n",
            "| Electric|    2|\n",
            "|      LPG|   10|\n",
            "|   Petrol| 2746|\n",
            "+---------+-----+\n",
            "\n"
          ]
        }
      ],
      "source": [
        "df.groupBy(\"Fuel_Type\").count().show()"
      ]
    },
    {
      "cell_type": "code",
      "execution_count": null,
      "metadata": {
        "colab": {
          "base_uri": "https://localhost:8080/"
        },
        "id": "Bq7BUlF_35Di",
        "outputId": "03ed1b85-c4be-4d80-cbf1-f984a6f3f5a7"
      },
      "outputs": [
        {
          "name": "stdout",
          "output_type": "stream",
          "text": [
            "+------------+-----+\n",
            "|Transmission|count|\n",
            "+------------+-----+\n",
            "|   Automatic| 1720|\n",
            "|      Manual| 4299|\n",
            "+------------+-----+\n",
            "\n"
          ]
        }
      ],
      "source": [
        "df.groupBy(\"Transmission\").count().show()"
      ]
    },
    {
      "cell_type": "code",
      "execution_count": null,
      "metadata": {
        "colab": {
          "base_uri": "https://localhost:8080/"
        },
        "id": "gsNKHzBX4GRm",
        "outputId": "199a2106-a518-4c3c-b317-d6f89bd65f38"
      },
      "outputs": [
        {
          "name": "stdout",
          "output_type": "stream",
          "text": [
            "+--------------+-----+\n",
            "|    Owner_Type|count|\n",
            "+--------------+-----+\n",
            "|         First| 4929|\n",
            "|        Second|  968|\n",
            "|Fourth & Above|    9|\n",
            "|         Third|  113|\n",
            "+--------------+-----+\n",
            "\n"
          ]
        }
      ],
      "source": [
        "df.groupBy(\"Owner_Type\").count().show()"
      ]
    },
    {
      "cell_type": "code",
      "execution_count": null,
      "metadata": {
        "id": "q1QOKAvr4MK2"
      },
      "outputs": [],
      "source": [
        "from pyspark.ml.feature import StringIndexer"
      ]
    },
    {
      "cell_type": "code",
      "execution_count": null,
      "metadata": {
        "colab": {
          "base_uri": "https://localhost:8080/"
        },
        "id": "_sqsfzOgCiCj",
        "outputId": "aab064b7-a9a7-4709-e379-c8c92bc9e7b0"
      },
      "outputs": [
        {
          "name": "stdout",
          "output_type": "stream",
          "text": [
            "+---+--------------------+----+-----------------+---------+------------+----------+----------+-------+----------+-----+-----+-----------+----------+------------------+\n",
            "|_c0|                Name|Year|Kilometers_Driven|Fuel_Type|Transmission|Owner_Type|   Mileage| Engine|     Power|Seats|Price|Owner_index|Fuel_index|Transmission_index|\n",
            "+---+--------------------+----+-----------------+---------+------------+----------+----------+-------+----------+-----+-----+-----------+----------+------------------+\n",
            "|  0|Maruti Wagon R LX...|2010|            72000|      CNG|      Manual|     First|26.6 km/kg| 998 CC| 58.16 bhp|  5.0| 1.75|        0.0|       2.0|               0.0|\n",
            "|  1|Hyundai Creta 1.6...|2015|            41000|   Diesel|      Manual|     First|19.67 kmpl|1582 CC| 126.2 bhp|  5.0| 12.5|        0.0|       0.0|               0.0|\n",
            "|  2|        Honda Jazz V|2011|            46000|   Petrol|      Manual|     First| 18.2 kmpl|1199 CC|  88.7 bhp|  5.0|  4.5|        0.0|       1.0|               0.0|\n",
            "|  3|   Maruti Ertiga VDI|2012|            87000|   Diesel|      Manual|     First|20.77 kmpl|1248 CC| 88.76 bhp|  7.0|  6.0|        0.0|       0.0|               0.0|\n",
            "|  4|Audi A4 New 2.0 T...|2013|            40670|   Diesel|   Automatic|    Second| 15.2 kmpl|1968 CC| 140.8 bhp|  5.0|17.74|        1.0|       0.0|               1.0|\n",
            "|  5|Hyundai EON LPG E...|2012|            75000|      LPG|      Manual|     First|21.1 km/kg| 814 CC|  55.2 bhp|  5.0| 2.35|        0.0|       3.0|               0.0|\n",
            "|  6|Nissan Micra Dies...|2013|            86999|   Diesel|      Manual|     First|23.08 kmpl|1461 CC|  63.1 bhp|  5.0|  3.5|        0.0|       0.0|               0.0|\n",
            "|  7|Toyota Innova Cry...|2016|            36000|   Diesel|   Automatic|     First|11.36 kmpl|2755 CC| 171.5 bhp|  8.0| 17.5|        0.0|       0.0|               1.0|\n",
            "|  8|Volkswagen Vento ...|2013|            64430|   Diesel|      Manual|     First|20.54 kmpl|1598 CC| 103.6 bhp|  5.0|  5.2|        0.0|       0.0|               0.0|\n",
            "|  9|Tata Indica Vista...|2012|            65932|   Diesel|      Manual|    Second| 22.3 kmpl|1248 CC|    74 bhp|  5.0| 1.95|        1.0|       0.0|               0.0|\n",
            "| 10|    Maruti Ciaz Zeta|2018|            25692|   Petrol|      Manual|     First|21.56 kmpl|1462 CC|103.25 bhp|  5.0| 9.95|        0.0|       1.0|               0.0|\n",
            "| 11|Honda City 1.5 V ...|2012|            60000|   Petrol|   Automatic|     First| 16.8 kmpl|1497 CC| 116.3 bhp|  5.0| 4.49|        0.0|       1.0|               1.0|\n",
            "| 12|Maruti Swift VDI ...|2015|            64424|   Diesel|      Manual|     First| 25.2 kmpl|1248 CC|    74 bhp|  5.0|  5.6|        0.0|       0.0|               0.0|\n",
            "| 13|Land Rover Range ...|2014|            72000|   Diesel|   Automatic|     First| 12.7 kmpl|2179 CC| 187.7 bhp|  5.0| 27.0|        0.0|       0.0|               1.0|\n",
            "| 14|Land Rover Freela...|2012|            85000|   Diesel|   Automatic|    Second|  0.0 kmpl|2179 CC|   115 bhp|  5.0| 17.5|        1.0|       0.0|               1.0|\n",
            "| 15|Mitsubishi Pajero...|2014|           110000|   Diesel|      Manual|     First| 13.5 kmpl|2477 CC|175.56 bhp|  7.0| 15.0|        0.0|       0.0|               0.0|\n",
            "| 16|Honda Amaze S i-D...|2016|            58950|   Diesel|      Manual|     First| 25.8 kmpl|1498 CC|  98.6 bhp|  5.0|  5.4|        0.0|       0.0|               0.0|\n",
            "| 17|Maruti Swift DDiS...|2017|            25000|   Diesel|      Manual|     First| 28.4 kmpl|1248 CC|    74 bhp|  5.0| 5.99|        0.0|       0.0|               0.0|\n",
            "| 18|Renault Duster 85...|2014|            77469|   Diesel|      Manual|     First|20.45 kmpl|1461 CC|  83.8 bhp|  5.0| 6.34|        0.0|       0.0|               0.0|\n",
            "| 19|Mercedes-Benz New...|2014|            78500|   Diesel|   Automatic|     First|14.84 kmpl|2143 CC|167.62 bhp|  5.0| 28.0|        0.0|       0.0|               1.0|\n",
            "+---+--------------------+----+-----------------+---------+------------+----------+----------+-------+----------+-----+-----+-----------+----------+------------------+\n",
            "only showing top 20 rows\n",
            "\n"
          ]
        }
      ],
      "source": [
        "indexer=StringIndexer(inputCols=[\"Owner_Type\",\"Fuel_Type\",\"Transmission\"],outputCols=[\"Owner_index\",\"Fuel_index\",\"Transmission_index\"])\n",
        "df_r=indexer.fit(df).transform(df)\n",
        "df_r.show()"
      ]
    },
    {
      "cell_type": "code",
      "execution_count": null,
      "metadata": {
        "colab": {
          "base_uri": "https://localhost:8080/"
        },
        "id": "vv8YNPdVERru",
        "outputId": "d508e48b-d49b-4453-eefe-4f7902c6a01d"
      },
      "outputs": [
        {
          "name": "stdout",
          "output_type": "stream",
          "text": [
            "+-----------+-----+\n",
            "|Owner_index|count|\n",
            "+-----------+-----+\n",
            "|        0.0| 4929|\n",
            "|        1.0|  968|\n",
            "|        3.0|    9|\n",
            "|        2.0|  113|\n",
            "+-----------+-----+\n",
            "\n"
          ]
        }
      ],
      "source": [
        "df_r.groupBy(\"Owner_index\").count().show()"
      ]
    },
    {
      "cell_type": "code",
      "execution_count": null,
      "metadata": {
        "id": "lE55m3maEtrA"
      },
      "outputs": [],
      "source": [
        "from pyspark.sql.functions import split"
      ]
    },
    {
      "cell_type": "code",
      "execution_count": null,
      "metadata": {
        "id": "-NS2ct50msYF"
      },
      "outputs": [],
      "source": [
        "df_r=df_r.withColumn(\"Mileage_split\", split((\"Mileage\"), \" \").getItem(0))\n"
      ]
    },
    {
      "cell_type": "code",
      "execution_count": null,
      "metadata": {
        "colab": {
          "base_uri": "https://localhost:8080/"
        },
        "id": "nkaRdQHEnVz9",
        "outputId": "e7eba251-69c4-4293-bbe6-0cea960cc38b"
      },
      "outputs": [
        {
          "name": "stdout",
          "output_type": "stream",
          "text": [
            "+---+--------------------+----+-----------------+---------+------------+----------+----------+-------+----------+-----+-----+-----------+----------+------------------+-------------+\n",
            "|_c0|                Name|Year|Kilometers_Driven|Fuel_Type|Transmission|Owner_Type|   Mileage| Engine|     Power|Seats|Price|Owner_index|Fuel_index|Transmission_index|Mileage_split|\n",
            "+---+--------------------+----+-----------------+---------+------------+----------+----------+-------+----------+-----+-----+-----------+----------+------------------+-------------+\n",
            "|  0|Maruti Wagon R LX...|2010|            72000|      CNG|      Manual|     First|26.6 km/kg| 998 CC| 58.16 bhp|  5.0| 1.75|        0.0|       2.0|               0.0|         26.6|\n",
            "|  1|Hyundai Creta 1.6...|2015|            41000|   Diesel|      Manual|     First|19.67 kmpl|1582 CC| 126.2 bhp|  5.0| 12.5|        0.0|       0.0|               0.0|        19.67|\n",
            "|  2|        Honda Jazz V|2011|            46000|   Petrol|      Manual|     First| 18.2 kmpl|1199 CC|  88.7 bhp|  5.0|  4.5|        0.0|       1.0|               0.0|         18.2|\n",
            "|  3|   Maruti Ertiga VDI|2012|            87000|   Diesel|      Manual|     First|20.77 kmpl|1248 CC| 88.76 bhp|  7.0|  6.0|        0.0|       0.0|               0.0|        20.77|\n",
            "|  4|Audi A4 New 2.0 T...|2013|            40670|   Diesel|   Automatic|    Second| 15.2 kmpl|1968 CC| 140.8 bhp|  5.0|17.74|        1.0|       0.0|               1.0|         15.2|\n",
            "|  5|Hyundai EON LPG E...|2012|            75000|      LPG|      Manual|     First|21.1 km/kg| 814 CC|  55.2 bhp|  5.0| 2.35|        0.0|       3.0|               0.0|         21.1|\n",
            "|  6|Nissan Micra Dies...|2013|            86999|   Diesel|      Manual|     First|23.08 kmpl|1461 CC|  63.1 bhp|  5.0|  3.5|        0.0|       0.0|               0.0|        23.08|\n",
            "|  7|Toyota Innova Cry...|2016|            36000|   Diesel|   Automatic|     First|11.36 kmpl|2755 CC| 171.5 bhp|  8.0| 17.5|        0.0|       0.0|               1.0|        11.36|\n",
            "|  8|Volkswagen Vento ...|2013|            64430|   Diesel|      Manual|     First|20.54 kmpl|1598 CC| 103.6 bhp|  5.0|  5.2|        0.0|       0.0|               0.0|        20.54|\n",
            "|  9|Tata Indica Vista...|2012|            65932|   Diesel|      Manual|    Second| 22.3 kmpl|1248 CC|    74 bhp|  5.0| 1.95|        1.0|       0.0|               0.0|         22.3|\n",
            "| 10|    Maruti Ciaz Zeta|2018|            25692|   Petrol|      Manual|     First|21.56 kmpl|1462 CC|103.25 bhp|  5.0| 9.95|        0.0|       1.0|               0.0|        21.56|\n",
            "| 11|Honda City 1.5 V ...|2012|            60000|   Petrol|   Automatic|     First| 16.8 kmpl|1497 CC| 116.3 bhp|  5.0| 4.49|        0.0|       1.0|               1.0|         16.8|\n",
            "| 12|Maruti Swift VDI ...|2015|            64424|   Diesel|      Manual|     First| 25.2 kmpl|1248 CC|    74 bhp|  5.0|  5.6|        0.0|       0.0|               0.0|         25.2|\n",
            "| 13|Land Rover Range ...|2014|            72000|   Diesel|   Automatic|     First| 12.7 kmpl|2179 CC| 187.7 bhp|  5.0| 27.0|        0.0|       0.0|               1.0|         12.7|\n",
            "| 14|Land Rover Freela...|2012|            85000|   Diesel|   Automatic|    Second|  0.0 kmpl|2179 CC|   115 bhp|  5.0| 17.5|        1.0|       0.0|               1.0|          0.0|\n",
            "| 15|Mitsubishi Pajero...|2014|           110000|   Diesel|      Manual|     First| 13.5 kmpl|2477 CC|175.56 bhp|  7.0| 15.0|        0.0|       0.0|               0.0|         13.5|\n",
            "| 16|Honda Amaze S i-D...|2016|            58950|   Diesel|      Manual|     First| 25.8 kmpl|1498 CC|  98.6 bhp|  5.0|  5.4|        0.0|       0.0|               0.0|         25.8|\n",
            "| 17|Maruti Swift DDiS...|2017|            25000|   Diesel|      Manual|     First| 28.4 kmpl|1248 CC|    74 bhp|  5.0| 5.99|        0.0|       0.0|               0.0|         28.4|\n",
            "| 18|Renault Duster 85...|2014|            77469|   Diesel|      Manual|     First|20.45 kmpl|1461 CC|  83.8 bhp|  5.0| 6.34|        0.0|       0.0|               0.0|        20.45|\n",
            "| 19|Mercedes-Benz New...|2014|            78500|   Diesel|   Automatic|     First|14.84 kmpl|2143 CC|167.62 bhp|  5.0| 28.0|        0.0|       0.0|               1.0|        14.84|\n",
            "+---+--------------------+----+-----------------+---------+------------+----------+----------+-------+----------+-----+-----+-----------+----------+------------------+-------------+\n",
            "only showing top 20 rows\n",
            "\n"
          ]
        }
      ],
      "source": [
        "df_r.show()"
      ]
    },
    {
      "cell_type": "code",
      "execution_count": null,
      "metadata": {
        "id": "ij8XGSrPnouO"
      },
      "outputs": [],
      "source": [
        "df_r=df_r.withColumn(\"Power_split\", split((\"Power\"), \" \").getItem(0))\n",
        "df_r=df_r.withColumn(\"Engine_split\", split((\"Engine\"), \" \").getItem(0))\n"
      ]
    },
    {
      "cell_type": "code",
      "execution_count": null,
      "metadata": {
        "colab": {
          "base_uri": "https://localhost:8080/"
        },
        "id": "sldqk24Nn4w_",
        "outputId": "4246b5b9-8568-4c8a-95cf-419bc38ea045"
      },
      "outputs": [
        {
          "name": "stdout",
          "output_type": "stream",
          "text": [
            "+---+--------------------+----+-----------------+---------+------------+----------+----------+-------+----------+-----+-----+-----------+----------+------------------+-------------+-----------+------------+\n",
            "|_c0|                Name|Year|Kilometers_Driven|Fuel_Type|Transmission|Owner_Type|   Mileage| Engine|     Power|Seats|Price|Owner_index|Fuel_index|Transmission_index|Mileage_split|Power_split|Engine_split|\n",
            "+---+--------------------+----+-----------------+---------+------------+----------+----------+-------+----------+-----+-----+-----------+----------+------------------+-------------+-----------+------------+\n",
            "|  0|Maruti Wagon R LX...|2010|            72000|      CNG|      Manual|     First|26.6 km/kg| 998 CC| 58.16 bhp|  5.0| 1.75|        0.0|       2.0|               0.0|         26.6|      58.16|         998|\n",
            "|  1|Hyundai Creta 1.6...|2015|            41000|   Diesel|      Manual|     First|19.67 kmpl|1582 CC| 126.2 bhp|  5.0| 12.5|        0.0|       0.0|               0.0|        19.67|      126.2|        1582|\n",
            "|  2|        Honda Jazz V|2011|            46000|   Petrol|      Manual|     First| 18.2 kmpl|1199 CC|  88.7 bhp|  5.0|  4.5|        0.0|       1.0|               0.0|         18.2|       88.7|        1199|\n",
            "|  3|   Maruti Ertiga VDI|2012|            87000|   Diesel|      Manual|     First|20.77 kmpl|1248 CC| 88.76 bhp|  7.0|  6.0|        0.0|       0.0|               0.0|        20.77|      88.76|        1248|\n",
            "|  4|Audi A4 New 2.0 T...|2013|            40670|   Diesel|   Automatic|    Second| 15.2 kmpl|1968 CC| 140.8 bhp|  5.0|17.74|        1.0|       0.0|               1.0|         15.2|      140.8|        1968|\n",
            "|  5|Hyundai EON LPG E...|2012|            75000|      LPG|      Manual|     First|21.1 km/kg| 814 CC|  55.2 bhp|  5.0| 2.35|        0.0|       3.0|               0.0|         21.1|       55.2|         814|\n",
            "|  6|Nissan Micra Dies...|2013|            86999|   Diesel|      Manual|     First|23.08 kmpl|1461 CC|  63.1 bhp|  5.0|  3.5|        0.0|       0.0|               0.0|        23.08|       63.1|        1461|\n",
            "|  7|Toyota Innova Cry...|2016|            36000|   Diesel|   Automatic|     First|11.36 kmpl|2755 CC| 171.5 bhp|  8.0| 17.5|        0.0|       0.0|               1.0|        11.36|      171.5|        2755|\n",
            "|  8|Volkswagen Vento ...|2013|            64430|   Diesel|      Manual|     First|20.54 kmpl|1598 CC| 103.6 bhp|  5.0|  5.2|        0.0|       0.0|               0.0|        20.54|      103.6|        1598|\n",
            "|  9|Tata Indica Vista...|2012|            65932|   Diesel|      Manual|    Second| 22.3 kmpl|1248 CC|    74 bhp|  5.0| 1.95|        1.0|       0.0|               0.0|         22.3|         74|        1248|\n",
            "| 10|    Maruti Ciaz Zeta|2018|            25692|   Petrol|      Manual|     First|21.56 kmpl|1462 CC|103.25 bhp|  5.0| 9.95|        0.0|       1.0|               0.0|        21.56|     103.25|        1462|\n",
            "| 11|Honda City 1.5 V ...|2012|            60000|   Petrol|   Automatic|     First| 16.8 kmpl|1497 CC| 116.3 bhp|  5.0| 4.49|        0.0|       1.0|               1.0|         16.8|      116.3|        1497|\n",
            "| 12|Maruti Swift VDI ...|2015|            64424|   Diesel|      Manual|     First| 25.2 kmpl|1248 CC|    74 bhp|  5.0|  5.6|        0.0|       0.0|               0.0|         25.2|         74|        1248|\n",
            "| 13|Land Rover Range ...|2014|            72000|   Diesel|   Automatic|     First| 12.7 kmpl|2179 CC| 187.7 bhp|  5.0| 27.0|        0.0|       0.0|               1.0|         12.7|      187.7|        2179|\n",
            "| 14|Land Rover Freela...|2012|            85000|   Diesel|   Automatic|    Second|  0.0 kmpl|2179 CC|   115 bhp|  5.0| 17.5|        1.0|       0.0|               1.0|          0.0|        115|        2179|\n",
            "| 15|Mitsubishi Pajero...|2014|           110000|   Diesel|      Manual|     First| 13.5 kmpl|2477 CC|175.56 bhp|  7.0| 15.0|        0.0|       0.0|               0.0|         13.5|     175.56|        2477|\n",
            "| 16|Honda Amaze S i-D...|2016|            58950|   Diesel|      Manual|     First| 25.8 kmpl|1498 CC|  98.6 bhp|  5.0|  5.4|        0.0|       0.0|               0.0|         25.8|       98.6|        1498|\n",
            "| 17|Maruti Swift DDiS...|2017|            25000|   Diesel|      Manual|     First| 28.4 kmpl|1248 CC|    74 bhp|  5.0| 5.99|        0.0|       0.0|               0.0|         28.4|         74|        1248|\n",
            "| 18|Renault Duster 85...|2014|            77469|   Diesel|      Manual|     First|20.45 kmpl|1461 CC|  83.8 bhp|  5.0| 6.34|        0.0|       0.0|               0.0|        20.45|       83.8|        1461|\n",
            "| 19|Mercedes-Benz New...|2014|            78500|   Diesel|   Automatic|     First|14.84 kmpl|2143 CC|167.62 bhp|  5.0| 28.0|        0.0|       0.0|               1.0|        14.84|     167.62|        2143|\n",
            "+---+--------------------+----+-----------------+---------+------------+----------+----------+-------+----------+-----+-----+-----------+----------+------------------+-------------+-----------+------------+\n",
            "only showing top 20 rows\n",
            "\n"
          ]
        }
      ],
      "source": [
        "df_r.show()"
      ]
    },
    {
      "cell_type": "code",
      "execution_count": null,
      "metadata": {
        "colab": {
          "base_uri": "https://localhost:8080/"
        },
        "id": "OpbTxzGKn7Gm",
        "outputId": "f268bfbc-c044-4454-8bc1-c2efa030ed04"
      },
      "outputs": [
        {
          "name": "stdout",
          "output_type": "stream",
          "text": [
            "root\n",
            " |-- _c0: integer (nullable = true)\n",
            " |-- Name: string (nullable = true)\n",
            " |-- Year: integer (nullable = true)\n",
            " |-- Kilometers_Driven: integer (nullable = true)\n",
            " |-- Fuel_Type: string (nullable = true)\n",
            " |-- Transmission: string (nullable = true)\n",
            " |-- Owner_Type: string (nullable = true)\n",
            " |-- Mileage: string (nullable = true)\n",
            " |-- Engine: string (nullable = true)\n",
            " |-- Power: string (nullable = true)\n",
            " |-- Seats: double (nullable = true)\n",
            " |-- Price: double (nullable = true)\n",
            " |-- Owner_index: double (nullable = false)\n",
            " |-- Fuel_index: double (nullable = false)\n",
            " |-- Transmission_index: double (nullable = false)\n",
            " |-- Mileage_split: string (nullable = true)\n",
            " |-- Power_split: string (nullable = true)\n",
            " |-- Engine_split: string (nullable = true)\n",
            "\n"
          ]
        }
      ],
      "source": [
        "df_r.printSchema()"
      ]
    },
    {
      "cell_type": "code",
      "execution_count": null,
      "metadata": {
        "colab": {
          "base_uri": "https://localhost:8080/"
        },
        "id": "2oUcxp8dqWi0",
        "outputId": "73824368-76c7-4abd-dfe2-f0e2e0c3b603"
      },
      "outputs": [
        {
          "name": "stdout",
          "output_type": "stream",
          "text": [
            "+---+--------------------+----+-----------------+---------+------------+----------+----------+-------+----------+-----+-----+-----------+----------+------------------+-------------+-----------+------------+-------------+\n",
            "|_c0|                Name|Year|Kilometers_Driven|Fuel_Type|Transmission|Owner_Type|   Mileage| Engine|     Power|Seats|Price|Owner_index|Fuel_index|Transmission_index|Mileage_split|Power_split|Engine_split| Company_Name|\n",
            "+---+--------------------+----+-----------------+---------+------------+----------+----------+-------+----------+-----+-----+-----------+----------+------------------+-------------+-----------+------------+-------------+\n",
            "|  0|Maruti Wagon R LX...|2010|            72000|      CNG|      Manual|     First|26.6 km/kg| 998 CC| 58.16 bhp|  5.0| 1.75|        0.0|       2.0|               0.0|         26.6|      58.16|         998|       Maruti|\n",
            "|  1|Hyundai Creta 1.6...|2015|            41000|   Diesel|      Manual|     First|19.67 kmpl|1582 CC| 126.2 bhp|  5.0| 12.5|        0.0|       0.0|               0.0|        19.67|      126.2|        1582|      Hyundai|\n",
            "|  2|        Honda Jazz V|2011|            46000|   Petrol|      Manual|     First| 18.2 kmpl|1199 CC|  88.7 bhp|  5.0|  4.5|        0.0|       1.0|               0.0|         18.2|       88.7|        1199|        Honda|\n",
            "|  3|   Maruti Ertiga VDI|2012|            87000|   Diesel|      Manual|     First|20.77 kmpl|1248 CC| 88.76 bhp|  7.0|  6.0|        0.0|       0.0|               0.0|        20.77|      88.76|        1248|       Maruti|\n",
            "|  4|Audi A4 New 2.0 T...|2013|            40670|   Diesel|   Automatic|    Second| 15.2 kmpl|1968 CC| 140.8 bhp|  5.0|17.74|        1.0|       0.0|               1.0|         15.2|      140.8|        1968|         Audi|\n",
            "|  5|Hyundai EON LPG E...|2012|            75000|      LPG|      Manual|     First|21.1 km/kg| 814 CC|  55.2 bhp|  5.0| 2.35|        0.0|       3.0|               0.0|         21.1|       55.2|         814|      Hyundai|\n",
            "|  6|Nissan Micra Dies...|2013|            86999|   Diesel|      Manual|     First|23.08 kmpl|1461 CC|  63.1 bhp|  5.0|  3.5|        0.0|       0.0|               0.0|        23.08|       63.1|        1461|       Nissan|\n",
            "|  7|Toyota Innova Cry...|2016|            36000|   Diesel|   Automatic|     First|11.36 kmpl|2755 CC| 171.5 bhp|  8.0| 17.5|        0.0|       0.0|               1.0|        11.36|      171.5|        2755|       Toyota|\n",
            "|  8|Volkswagen Vento ...|2013|            64430|   Diesel|      Manual|     First|20.54 kmpl|1598 CC| 103.6 bhp|  5.0|  5.2|        0.0|       0.0|               0.0|        20.54|      103.6|        1598|   Volkswagen|\n",
            "|  9|Tata Indica Vista...|2012|            65932|   Diesel|      Manual|    Second| 22.3 kmpl|1248 CC|    74 bhp|  5.0| 1.95|        1.0|       0.0|               0.0|         22.3|         74|        1248|         Tata|\n",
            "| 10|    Maruti Ciaz Zeta|2018|            25692|   Petrol|      Manual|     First|21.56 kmpl|1462 CC|103.25 bhp|  5.0| 9.95|        0.0|       1.0|               0.0|        21.56|     103.25|        1462|       Maruti|\n",
            "| 11|Honda City 1.5 V ...|2012|            60000|   Petrol|   Automatic|     First| 16.8 kmpl|1497 CC| 116.3 bhp|  5.0| 4.49|        0.0|       1.0|               1.0|         16.8|      116.3|        1497|        Honda|\n",
            "| 12|Maruti Swift VDI ...|2015|            64424|   Diesel|      Manual|     First| 25.2 kmpl|1248 CC|    74 bhp|  5.0|  5.6|        0.0|       0.0|               0.0|         25.2|         74|        1248|       Maruti|\n",
            "| 13|Land Rover Range ...|2014|            72000|   Diesel|   Automatic|     First| 12.7 kmpl|2179 CC| 187.7 bhp|  5.0| 27.0|        0.0|       0.0|               1.0|         12.7|      187.7|        2179|         Land|\n",
            "| 14|Land Rover Freela...|2012|            85000|   Diesel|   Automatic|    Second|  0.0 kmpl|2179 CC|   115 bhp|  5.0| 17.5|        1.0|       0.0|               1.0|          0.0|        115|        2179|         Land|\n",
            "| 15|Mitsubishi Pajero...|2014|           110000|   Diesel|      Manual|     First| 13.5 kmpl|2477 CC|175.56 bhp|  7.0| 15.0|        0.0|       0.0|               0.0|         13.5|     175.56|        2477|   Mitsubishi|\n",
            "| 16|Honda Amaze S i-D...|2016|            58950|   Diesel|      Manual|     First| 25.8 kmpl|1498 CC|  98.6 bhp|  5.0|  5.4|        0.0|       0.0|               0.0|         25.8|       98.6|        1498|        Honda|\n",
            "| 17|Maruti Swift DDiS...|2017|            25000|   Diesel|      Manual|     First| 28.4 kmpl|1248 CC|    74 bhp|  5.0| 5.99|        0.0|       0.0|               0.0|         28.4|         74|        1248|       Maruti|\n",
            "| 18|Renault Duster 85...|2014|            77469|   Diesel|      Manual|     First|20.45 kmpl|1461 CC|  83.8 bhp|  5.0| 6.34|        0.0|       0.0|               0.0|        20.45|       83.8|        1461|      Renault|\n",
            "| 19|Mercedes-Benz New...|2014|            78500|   Diesel|   Automatic|     First|14.84 kmpl|2143 CC|167.62 bhp|  5.0| 28.0|        0.0|       0.0|               1.0|        14.84|     167.62|        2143|Mercedes-Benz|\n",
            "+---+--------------------+----+-----------------+---------+------------+----------+----------+-------+----------+-----+-----+-----------+----------+------------------+-------------+-----------+------------+-------------+\n",
            "only showing top 20 rows\n",
            "\n"
          ]
        }
      ],
      "source": [
        "df_r=df_r.withColumn(\"Company_Name\", split((\"Name\"), \" \").getItem(0))\n",
        "df_r.show()"
      ]
    },
    {
      "cell_type": "code",
      "execution_count": null,
      "metadata": {
        "colab": {
          "base_uri": "https://localhost:8080/"
        },
        "id": "q4NjepAnrWab",
        "outputId": "7bb07aec-de96-4999-a73b-34a0cc81ed2e"
      },
      "outputs": [
        {
          "name": "stdout",
          "output_type": "stream",
          "text": [
            "root\n",
            " |-- _c0: integer (nullable = true)\n",
            " |-- Name: string (nullable = true)\n",
            " |-- Year: integer (nullable = true)\n",
            " |-- Kilometers_Driven: integer (nullable = true)\n",
            " |-- Fuel_Type: string (nullable = true)\n",
            " |-- Transmission: string (nullable = true)\n",
            " |-- Owner_Type: string (nullable = true)\n",
            " |-- Mileage: string (nullable = true)\n",
            " |-- Engine: string (nullable = true)\n",
            " |-- Power: string (nullable = true)\n",
            " |-- Seats: double (nullable = true)\n",
            " |-- Price: double (nullable = true)\n",
            " |-- Owner_index: double (nullable = false)\n",
            " |-- Fuel_index: double (nullable = false)\n",
            " |-- Transmission_index: double (nullable = false)\n",
            " |-- Mileage_split: string (nullable = true)\n",
            " |-- Power_split: string (nullable = true)\n",
            " |-- Engine_split: string (nullable = true)\n",
            " |-- Company_Name: string (nullable = true)\n",
            "\n"
          ]
        }
      ],
      "source": [
        "df_r.printSchema()"
      ]
    },
    {
      "cell_type": "code",
      "execution_count": null,
      "metadata": {
        "colab": {
          "base_uri": "https://localhost:8080/"
        },
        "id": "vbsEUgwAq_1g",
        "outputId": "667b8020-5f56-4ae8-f4be-ca90c109d7ae"
      },
      "outputs": [
        {
          "name": "stdout",
          "output_type": "stream",
          "text": [
            "+---+----+----+-----------------+---------+------------+----------+-------+------+-----+-----+-----+-----------+----------+------------------+-------------+-----------+------------+------------+\n",
            "|_c0|Name|Year|Kilometers_Driven|Fuel_Type|Transmission|Owner_Type|Mileage|Engine|Power|Seats|Price|Owner_index|Fuel_index|Transmission_index|Mileage_split|Power_split|Engine_split|Company_Name|\n",
            "+---+----+----+-----------------+---------+------------+----------+-------+------+-----+-----+-----+-----------+----------+------------------+-------------+-----------+------------+------------+\n",
            "+---+----+----+-----------------+---------+------------+----------+-------+------+-----+-----+-----+-----------+----------+------------------+-------------+-----------+------------+------------+\n",
            "\n"
          ]
        }
      ],
      "source": [
        "df_r.filter(df_r.Company_Name.isNull()).show()"
      ]
    },
    {
      "cell_type": "code",
      "execution_count": null,
      "metadata": {
        "colab": {
          "base_uri": "https://localhost:8080/"
        },
        "id": "ft5L4HGr8tS1",
        "outputId": "f57bab73-5c93-4ef3-b218-0801a0047d94"
      },
      "outputs": [
        {
          "name": "stdout",
          "output_type": "stream",
          "text": [
            "+----+--------------------+----+-----------------+---------+------------+----------+-------+-------+------+-----+-----+-----------+----------+------------------+-------------+-----------+------------+------------+------------------+---------------+-----------------+----------------+-----------------+---------------+\n",
            "| _c0|                Name|Year|Kilometers_Driven|Fuel_Type|Transmission|Owner_Type|Mileage| Engine| Power|Seats|Price|Owner_index|Fuel_index|Transmission_index|Mileage_split|Power_split|Engine_split|Company_Name|compane_Name_index|old_of_car_year|year_old_positive|Engine_split_new|Mileage_split_new|Power_split_new|\n",
            "+----+--------------------+----+-----------------+---------+------------+----------+-------+-------+------+-----+-----+-----------+----------+------------------+-------------+-----------+------------+------------+------------------+---------------+-----------------+----------------+-----------------+---------------+\n",
            "|4446|Mahindra E Verito D4|2016|            50000| Electric|   Automatic|     First|   null|  72 CC|41 bhp|  5.0| 13.0|        0.0|       4.0|               1.0|         null|         41|          72|    Mahindra|               7.0|             -4|                4|            72.0|             null|           41.0|\n",
            "|4904|Toyota Prius 2009...|2011|            44000| Electric|   Automatic|     First|   null|1798 CC|73 bhp|  5.0|12.75|        0.0|       4.0|               1.0|         null|         73|        1798|      Toyota|               3.0|             -9|                9|          1798.0|             null|           73.0|\n",
            "+----+--------------------+----+-----------------+---------+------------+----------+-------+-------+------+-----+-----+-----------+----------+------------------+-------------+-----------+------------+------------+------------------+---------------+-----------------+----------------+-----------------+---------------+\n",
            "\n"
          ]
        }
      ],
      "source": [
        "df_r.filter(df_r.Mileage_split.isNull()).show()"
      ]
    },
    {
      "cell_type": "code",
      "execution_count": null,
      "metadata": {
        "colab": {
          "base_uri": "https://localhost:8080/"
        },
        "id": "hjop3gvh8tHo",
        "outputId": "86117406-a308-4329-d603-ad4cf07b4b8c"
      },
      "outputs": [
        {
          "name": "stdout",
          "output_type": "stream",
          "text": [
            "+----+--------------------+----+-----------------+---------+------------+----------+----------+------+-----+-----+-----+-----------+----------+------------------+-------------+-----------+------------+------------+------------------+---------------+-----------------+----------------+-----------------+---------------+\n",
            "| _c0|                Name|Year|Kilometers_Driven|Fuel_Type|Transmission|Owner_Type|   Mileage|Engine|Power|Seats|Price|Owner_index|Fuel_index|Transmission_index|Mileage_split|Power_split|Engine_split|Company_Name|compane_Name_index|old_of_car_year|year_old_positive|Engine_split_new|Mileage_split_new|Power_split_new|\n",
            "+----+--------------------+----+-----------------+---------+------------+----------+----------+------+-----+-----+-----+-----------+----------+------------------+-------------+-----------+------------+------------+------------------+---------------+-----------------+----------------+-----------------+---------------+\n",
            "| 194|  Honda City 1.5 GXI|2007|            60006|   Petrol|      Manual|     First|  0.0 kmpl|  null| null| null| 2.95|        0.0|       1.0|               0.0|          0.0|       null|        null|       Honda|               2.0|            -13|               13|            null|              0.0|           null|\n",
            "| 208|Maruti Swift 1.3 VXi|2010|            42001|   Petrol|      Manual|     First| 16.1 kmpl|  null| null| null| 2.11|        0.0|       1.0|               0.0|         16.1|       null|        null|      Maruti|               0.0|            -10|               10|            null|             16.1|           null|\n",
            "| 733|Maruti Swift 1.3 VXi|2006|            97800|   Petrol|      Manual|     Third| 16.1 kmpl|  null| null| null| 1.75|        2.0|       1.0|               0.0|         16.1|       null|        null|      Maruti|               0.0|            -14|               14|            null|             16.1|           null|\n",
            "| 749|Land Rover Range ...|2008|            55001|   Diesel|   Automatic|    Second|  0.0 kmpl|  null| null| null| 26.5|        1.0|       0.0|               1.0|          0.0|       null|        null|        Land|              15.0|            -12|               12|            null|              0.0|           null|\n",
            "|1294|   Honda City 1.3 DX|2009|            55005|   Petrol|      Manual|     First| 12.8 kmpl|  null| null| null|  3.2|        0.0|       1.0|               0.0|         12.8|       null|        null|       Honda|               2.0|            -11|               11|            null|             12.8|           null|\n",
            "|1327|Maruti Swift 1.3 ZXI|2015|            50295|   Petrol|      Manual|     First| 16.1 kmpl|  null| null| null|  5.8|        0.0|       1.0|               0.0|         16.1|       null|        null|      Maruti|               0.0|             -5|                5|            null|             16.1|           null|\n",
            "|1385|  Honda City 1.5 GXI|2004|           115000|   Petrol|      Manual|    Second|  0.0 kmpl|  null| null| null|  1.5|        1.0|       1.0|               0.0|          0.0|       null|        null|       Honda|               2.0|            -16|               16|            null|              0.0|           null|\n",
            "|1460|Land Rover Range ...|2008|            69078|   Petrol|      Manual|     First|  0.0 kmpl|  null| null| null|40.88|        0.0|       1.0|               0.0|          0.0|       null|        null|        Land|              15.0|            -12|               12|            null|              0.0|           null|\n",
            "|2074|Maruti Swift 1.3 LXI|2011|            24255|   Petrol|      Manual|     First| 16.1 kmpl|  null| null| null| 3.15|        0.0|       1.0|               0.0|         16.1|       null|        null|      Maruti|               0.0|             -9|                9|            null|             16.1|           null|\n",
            "|2096|Hyundai Santro LP...|2004|            52146|   Petrol|      Manual|     First|  0.0 kmpl|  null| null| null| 1.93|        0.0|       1.0|               0.0|          0.0|       null|        null|     Hyundai|               1.0|            -16|               16|            null|              0.0|           null|\n",
            "|2264| Toyota Etios Liva V|2012|            24500|   Petrol|      Manual|    Second| 18.3 kmpl|  null| null| null| 2.95|        1.0|       1.0|               0.0|         18.3|       null|        null|      Toyota|               3.0|             -8|                8|            null|             18.3|           null|\n",
            "|2325|Maruti Swift 1.3 ...|2015|            67000|   Petrol|      Manual|     First| 16.1 kmpl|  null| null| null|  4.7|        0.0|       1.0|               0.0|         16.1|       null|        null|      Maruti|               0.0|             -5|                5|            null|             16.1|           null|\n",
            "|2335|Maruti Swift 1.3 VXi|2007|            55000|   Petrol|      Manual|    Second| 16.1 kmpl|  null| null| null| 1.75|        1.0|       1.0|               0.0|         16.1|       null|        null|      Maruti|               0.0|            -13|               13|            null|             16.1|           null|\n",
            "|2530|BMW 5 Series 520d...|2014|            64158|   Diesel|   Automatic|     First|18.48 kmpl|  null| null| null|17.89|        0.0|       0.0|               1.0|        18.48|       null|        null|         BMW|               8.0|             -6|                6|            null|            18.48|           null|\n",
            "|2542|Hyundai Santro GL...|2011|            65000|   Petrol|      Manual|    Second|  0.0 kmpl|  null| null| null| 3.15|        1.0|       1.0|               0.0|          0.0|       null|        null|     Hyundai|               1.0|             -9|                9|            null|              0.0|           null|\n",
            "|2623|BMW 5 Series 520d...|2012|            95000|   Diesel|   Automatic|    Second|18.48 kmpl|  null| null| null| 18.0|        1.0|       0.0|               1.0|        18.48|       null|        null|         BMW|               8.0|             -8|                8|            null|            18.48|           null|\n",
            "|2668|Maruti Swift 1.3 VXi|2014|            32986|   Petrol|      Manual|     First| 16.1 kmpl|  null| null| null| 4.24|        0.0|       1.0|               0.0|         16.1|       null|        null|      Maruti|               0.0|             -6|                6|            null|             16.1|           null|\n",
            "|2737|   Maruti Wagon R Vx|2001|           200000|   Petrol|      Manual|     First| 12.0 kmpl|  null| null| null|  0.7|        0.0|       1.0|               0.0|         12.0|       null|        null|      Maruti|               0.0|            -19|               19|            null|             12.0|           null|\n",
            "|2780|Hyundai Santro GL...|2009|           100000|   Petrol|      Manual|     First|  0.0 kmpl|  null| null| null|  1.6|        0.0|       1.0|               0.0|          0.0|       null|        null|     Hyundai|               1.0|            -11|               11|            null|              0.0|           null|\n",
            "|2842|Hyundai Santro GL...|2012|            43000|   Petrol|      Manual|     First|  0.0 kmpl|  null| null| null| 3.25|        0.0|       1.0|               0.0|          0.0|       null|        null|     Hyundai|               1.0|             -8|                8|            null|              0.0|           null|\n",
            "+----+--------------------+----+-----------------+---------+------------+----------+----------+------+-----+-----+-----+-----------+----------+------------------+-------------+-----------+------------+------------+------------------+---------------+-----------------+----------------+-----------------+---------------+\n",
            "only showing top 20 rows\n",
            "\n"
          ]
        }
      ],
      "source": [
        "df_r.filter(df_r.Engine_split.isNull()).show()"
      ]
    },
    {
      "cell_type": "code",
      "execution_count": null,
      "metadata": {
        "colab": {
          "base_uri": "https://localhost:8080/"
        },
        "id": "SDwZYV8A8tEG",
        "outputId": "003908db-9f55-4836-acfe-0c8c8aeae2e3"
      },
      "outputs": [
        {
          "name": "stdout",
          "output_type": "stream",
          "text": [
            "+----+--------------------+----+-----------------+---------+------------+----------+----------+------+-----+-----+-----+-----------+----------+------------------+-------------+-----------+------------+------------+------------------+---------------+-----------------+----------------+-----------------+---------------+\n",
            "| _c0|                Name|Year|Kilometers_Driven|Fuel_Type|Transmission|Owner_Type|   Mileage|Engine|Power|Seats|Price|Owner_index|Fuel_index|Transmission_index|Mileage_split|Power_split|Engine_split|Company_Name|compane_Name_index|old_of_car_year|year_old_positive|Engine_split_new|Mileage_split_new|Power_split_new|\n",
            "+----+--------------------+----+-----------------+---------+------------+----------+----------+------+-----+-----+-----+-----------+----------+------------------+-------------+-----------+------------+------------+------------------+---------------+-----------------+----------------+-----------------+---------------+\n",
            "| 194|  Honda City 1.5 GXI|2007|            60006|   Petrol|      Manual|     First|  0.0 kmpl|  null| null| null| 2.95|        0.0|       1.0|               0.0|          0.0|       null|        null|       Honda|               2.0|            -13|               13|            null|              0.0|           null|\n",
            "| 208|Maruti Swift 1.3 VXi|2010|            42001|   Petrol|      Manual|     First| 16.1 kmpl|  null| null| null| 2.11|        0.0|       1.0|               0.0|         16.1|       null|        null|      Maruti|               0.0|            -10|               10|            null|             16.1|           null|\n",
            "| 733|Maruti Swift 1.3 VXi|2006|            97800|   Petrol|      Manual|     Third| 16.1 kmpl|  null| null| null| 1.75|        2.0|       1.0|               0.0|         16.1|       null|        null|      Maruti|               0.0|            -14|               14|            null|             16.1|           null|\n",
            "| 749|Land Rover Range ...|2008|            55001|   Diesel|   Automatic|    Second|  0.0 kmpl|  null| null| null| 26.5|        1.0|       0.0|               1.0|          0.0|       null|        null|        Land|              15.0|            -12|               12|            null|              0.0|           null|\n",
            "|1294|   Honda City 1.3 DX|2009|            55005|   Petrol|      Manual|     First| 12.8 kmpl|  null| null| null|  3.2|        0.0|       1.0|               0.0|         12.8|       null|        null|       Honda|               2.0|            -11|               11|            null|             12.8|           null|\n",
            "|1327|Maruti Swift 1.3 ZXI|2015|            50295|   Petrol|      Manual|     First| 16.1 kmpl|  null| null| null|  5.8|        0.0|       1.0|               0.0|         16.1|       null|        null|      Maruti|               0.0|             -5|                5|            null|             16.1|           null|\n",
            "|1385|  Honda City 1.5 GXI|2004|           115000|   Petrol|      Manual|    Second|  0.0 kmpl|  null| null| null|  1.5|        1.0|       1.0|               0.0|          0.0|       null|        null|       Honda|               2.0|            -16|               16|            null|              0.0|           null|\n",
            "|1460|Land Rover Range ...|2008|            69078|   Petrol|      Manual|     First|  0.0 kmpl|  null| null| null|40.88|        0.0|       1.0|               0.0|          0.0|       null|        null|        Land|              15.0|            -12|               12|            null|              0.0|           null|\n",
            "|2074|Maruti Swift 1.3 LXI|2011|            24255|   Petrol|      Manual|     First| 16.1 kmpl|  null| null| null| 3.15|        0.0|       1.0|               0.0|         16.1|       null|        null|      Maruti|               0.0|             -9|                9|            null|             16.1|           null|\n",
            "|2096|Hyundai Santro LP...|2004|            52146|   Petrol|      Manual|     First|  0.0 kmpl|  null| null| null| 1.93|        0.0|       1.0|               0.0|          0.0|       null|        null|     Hyundai|               1.0|            -16|               16|            null|              0.0|           null|\n",
            "|2264| Toyota Etios Liva V|2012|            24500|   Petrol|      Manual|    Second| 18.3 kmpl|  null| null| null| 2.95|        1.0|       1.0|               0.0|         18.3|       null|        null|      Toyota|               3.0|             -8|                8|            null|             18.3|           null|\n",
            "|2325|Maruti Swift 1.3 ...|2015|            67000|   Petrol|      Manual|     First| 16.1 kmpl|  null| null| null|  4.7|        0.0|       1.0|               0.0|         16.1|       null|        null|      Maruti|               0.0|             -5|                5|            null|             16.1|           null|\n",
            "|2335|Maruti Swift 1.3 VXi|2007|            55000|   Petrol|      Manual|    Second| 16.1 kmpl|  null| null| null| 1.75|        1.0|       1.0|               0.0|         16.1|       null|        null|      Maruti|               0.0|            -13|               13|            null|             16.1|           null|\n",
            "|2530|BMW 5 Series 520d...|2014|            64158|   Diesel|   Automatic|     First|18.48 kmpl|  null| null| null|17.89|        0.0|       0.0|               1.0|        18.48|       null|        null|         BMW|               8.0|             -6|                6|            null|            18.48|           null|\n",
            "|2542|Hyundai Santro GL...|2011|            65000|   Petrol|      Manual|    Second|  0.0 kmpl|  null| null| null| 3.15|        1.0|       1.0|               0.0|          0.0|       null|        null|     Hyundai|               1.0|             -9|                9|            null|              0.0|           null|\n",
            "|2623|BMW 5 Series 520d...|2012|            95000|   Diesel|   Automatic|    Second|18.48 kmpl|  null| null| null| 18.0|        1.0|       0.0|               1.0|        18.48|       null|        null|         BMW|               8.0|             -8|                8|            null|            18.48|           null|\n",
            "|2668|Maruti Swift 1.3 VXi|2014|            32986|   Petrol|      Manual|     First| 16.1 kmpl|  null| null| null| 4.24|        0.0|       1.0|               0.0|         16.1|       null|        null|      Maruti|               0.0|             -6|                6|            null|             16.1|           null|\n",
            "|2737|   Maruti Wagon R Vx|2001|           200000|   Petrol|      Manual|     First| 12.0 kmpl|  null| null| null|  0.7|        0.0|       1.0|               0.0|         12.0|       null|        null|      Maruti|               0.0|            -19|               19|            null|             12.0|           null|\n",
            "|2780|Hyundai Santro GL...|2009|           100000|   Petrol|      Manual|     First|  0.0 kmpl|  null| null| null|  1.6|        0.0|       1.0|               0.0|          0.0|       null|        null|     Hyundai|               1.0|            -11|               11|            null|              0.0|           null|\n",
            "|2842|Hyundai Santro GL...|2012|            43000|   Petrol|      Manual|     First|  0.0 kmpl|  null| null| null| 3.25|        0.0|       1.0|               0.0|          0.0|       null|        null|     Hyundai|               1.0|             -8|                8|            null|              0.0|           null|\n",
            "+----+--------------------+----+-----------------+---------+------------+----------+----------+------+-----+-----+-----+-----------+----------+------------------+-------------+-----------+------------+------------+------------------+---------------+-----------------+----------------+-----------------+---------------+\n",
            "only showing top 20 rows\n",
            "\n"
          ]
        }
      ],
      "source": [
        "df_r.filter(df_r.Power_split.isNull()).show()"
      ]
    },
    {
      "cell_type": "code",
      "execution_count": null,
      "metadata": {
        "colab": {
          "base_uri": "https://localhost:8080/"
        },
        "id": "cRoVX7xO8tBI",
        "outputId": "24b53d88-26e2-4dc7-8d92-01f7a1163cc3"
      },
      "outputs": [
        {
          "name": "stdout",
          "output_type": "stream",
          "text": [
            "+----+--------------------+----+-----------------+---------+------------+----------+----------+-------+--------+-----+-----+-----------+----------+------------------+-------------+-----------+------------+------------+------------------+---------------+-----------------+----------------+-----------------+---------------+\n",
            "| _c0|                Name|Year|Kilometers_Driven|Fuel_Type|Transmission|Owner_Type|   Mileage| Engine|   Power|Seats|Price|Owner_index|Fuel_index|Transmission_index|Mileage_split|Power_split|Engine_split|Company_Name|compane_Name_index|old_of_car_year|year_old_positive|Engine_split_new|Mileage_split_new|Power_split_new|\n",
            "+----+--------------------+----+-----------------+---------+------------+----------+----------+-------+--------+-----+-----+-----------+----------+------------------+-------------+-----------+------------+------------+------------------+---------------+-----------------+----------------+-----------------+---------------+\n",
            "| 194|  Honda City 1.5 GXI|2007|            60006|   Petrol|      Manual|     First|  0.0 kmpl|   null|    null| null| 2.95|        0.0|       1.0|               0.0|          0.0|       null|        null|       Honda|               2.0|            -13|               13|            null|              0.0|           null|\n",
            "| 208|Maruti Swift 1.3 VXi|2010|            42001|   Petrol|      Manual|     First| 16.1 kmpl|   null|    null| null| 2.11|        0.0|       1.0|               0.0|         16.1|       null|        null|      Maruti|               0.0|            -10|               10|            null|             16.1|           null|\n",
            "| 229|    Ford Figo Diesel|2015|            70436|   Diesel|      Manual|     First|  0.0 kmpl|1498 CC|  99 bhp| null|  3.6|        0.0|       0.0|               0.0|          0.0|         99|        1498|        Ford|               6.0|             -5|                5|          1498.0|              0.0|           99.0|\n",
            "| 733|Maruti Swift 1.3 VXi|2006|            97800|   Petrol|      Manual|     Third| 16.1 kmpl|   null|    null| null| 1.75|        2.0|       1.0|               0.0|         16.1|       null|        null|      Maruti|               0.0|            -14|               14|            null|             16.1|           null|\n",
            "| 749|Land Rover Range ...|2008|            55001|   Diesel|   Automatic|    Second|  0.0 kmpl|   null|    null| null| 26.5|        1.0|       0.0|               1.0|          0.0|       null|        null|        Land|              15.0|            -12|               12|            null|              0.0|           null|\n",
            "|1294|   Honda City 1.3 DX|2009|            55005|   Petrol|      Manual|     First| 12.8 kmpl|   null|    null| null|  3.2|        0.0|       1.0|               0.0|         12.8|       null|        null|       Honda|               2.0|            -11|               11|            null|             12.8|           null|\n",
            "|1327|Maruti Swift 1.3 ZXI|2015|            50295|   Petrol|      Manual|     First| 16.1 kmpl|   null|    null| null|  5.8|        0.0|       1.0|               0.0|         16.1|       null|        null|      Maruti|               0.0|             -5|                5|            null|             16.1|           null|\n",
            "|1385|  Honda City 1.5 GXI|2004|           115000|   Petrol|      Manual|    Second|  0.0 kmpl|   null|    null| null|  1.5|        1.0|       1.0|               0.0|          0.0|       null|        null|       Honda|               2.0|            -16|               16|            null|              0.0|           null|\n",
            "|1460|Land Rover Range ...|2008|            69078|   Petrol|      Manual|     First|  0.0 kmpl|   null|    null| null|40.88|        0.0|       1.0|               0.0|          0.0|       null|        null|        Land|              15.0|            -12|               12|            null|              0.0|           null|\n",
            "|1917|  Honda City 1.5 EXI|2005|            88000|   Petrol|      Manual|    Second| 13.0 kmpl|1493 CC| 100 bhp| null|  1.7|        1.0|       1.0|               0.0|         13.0|        100|        1493|       Honda|               2.0|            -15|               15|          1493.0|             13.0|          100.0|\n",
            "|2074|Maruti Swift 1.3 LXI|2011|            24255|   Petrol|      Manual|     First| 16.1 kmpl|   null|    null| null| 3.15|        0.0|       1.0|               0.0|         16.1|       null|        null|      Maruti|               0.0|             -9|                9|            null|             16.1|           null|\n",
            "|2096|Hyundai Santro LP...|2004|            52146|   Petrol|      Manual|     First|  0.0 kmpl|   null|    null| null| 1.93|        0.0|       1.0|               0.0|          0.0|       null|        null|     Hyundai|               1.0|            -16|               16|            null|              0.0|           null|\n",
            "|2264| Toyota Etios Liva V|2012|            24500|   Petrol|      Manual|    Second| 18.3 kmpl|   null|    null| null| 2.95|        1.0|       1.0|               0.0|         18.3|       null|        null|      Toyota|               3.0|             -8|                8|            null|             18.3|           null|\n",
            "|2325|Maruti Swift 1.3 ...|2015|            67000|   Petrol|      Manual|     First| 16.1 kmpl|   null|    null| null|  4.7|        0.0|       1.0|               0.0|         16.1|       null|        null|      Maruti|               0.0|             -5|                5|            null|             16.1|           null|\n",
            "|2335|Maruti Swift 1.3 VXi|2007|            55000|   Petrol|      Manual|    Second| 16.1 kmpl|   null|    null| null| 1.75|        1.0|       1.0|               0.0|         16.1|       null|        null|      Maruti|               0.0|            -13|               13|            null|             16.1|           null|\n",
            "|2369|   Maruti Estilo LXI|2008|            56000|   Petrol|      Manual|    Second| 19.5 kmpl|1061 CC|null bhp| null|  1.5|        1.0|       1.0|               0.0|         19.5|       null|        1061|      Maruti|               0.0|            -12|               12|          1061.0|             19.5|           null|\n",
            "|2530|BMW 5 Series 520d...|2014|            64158|   Diesel|   Automatic|     First|18.48 kmpl|   null|    null| null|17.89|        0.0|       0.0|               1.0|        18.48|       null|        null|         BMW|               8.0|             -6|                6|            null|            18.48|           null|\n",
            "|2542|Hyundai Santro GL...|2011|            65000|   Petrol|      Manual|    Second|  0.0 kmpl|   null|    null| null| 3.15|        1.0|       1.0|               0.0|          0.0|       null|        null|     Hyundai|               1.0|             -9|                9|            null|              0.0|           null|\n",
            "|2623|BMW 5 Series 520d...|2012|            95000|   Diesel|   Automatic|    Second|18.48 kmpl|   null|    null| null| 18.0|        1.0|       0.0|               1.0|        18.48|       null|        null|         BMW|               8.0|             -8|                8|            null|            18.48|           null|\n",
            "|2668|Maruti Swift 1.3 VXi|2014|            32986|   Petrol|      Manual|     First| 16.1 kmpl|   null|    null| null| 4.24|        0.0|       1.0|               0.0|         16.1|       null|        null|      Maruti|               0.0|             -6|                6|            null|             16.1|           null|\n",
            "+----+--------------------+----+-----------------+---------+------------+----------+----------+-------+--------+-----+-----+-----------+----------+------------------+-------------+-----------+------------+------------+------------------+---------------+-----------------+----------------+-----------------+---------------+\n",
            "only showing top 20 rows\n",
            "\n"
          ]
        }
      ],
      "source": [
        "df_r.filter(df_r.Seats.isNull()).show()"
      ]
    },
    {
      "cell_type": "code",
      "execution_count": null,
      "metadata": {
        "colab": {
          "base_uri": "https://localhost:8080/"
        },
        "id": "12AdYWI28s-Y",
        "outputId": "de3e1e67-3fda-4fe5-fae9-b62b02da1eb2"
      },
      "outputs": [
        {
          "name": "stdout",
          "output_type": "stream",
          "text": [
            "root\n",
            " |-- _c0: integer (nullable = true)\n",
            " |-- Name: string (nullable = true)\n",
            " |-- Year: integer (nullable = true)\n",
            " |-- Kilometers_Driven: integer (nullable = true)\n",
            " |-- Fuel_Type: string (nullable = true)\n",
            " |-- Transmission: string (nullable = true)\n",
            " |-- Owner_Type: string (nullable = true)\n",
            " |-- Mileage: string (nullable = true)\n",
            " |-- Engine: string (nullable = true)\n",
            " |-- Power: string (nullable = true)\n",
            " |-- Seats: double (nullable = true)\n",
            " |-- Price: double (nullable = true)\n",
            " |-- Owner_index: double (nullable = false)\n",
            " |-- Fuel_index: double (nullable = false)\n",
            " |-- Transmission_index: double (nullable = false)\n",
            " |-- Mileage_split: string (nullable = true)\n",
            " |-- Power_split: string (nullable = true)\n",
            " |-- Engine_split: string (nullable = true)\n",
            " |-- Company_Name: string (nullable = true)\n",
            " |-- compane_Name_index: double (nullable = false)\n",
            " |-- old_of_car_year: integer (nullable = true)\n",
            " |-- year_old_positive: integer (nullable = true)\n",
            " |-- Engine_split_new: double (nullable = true)\n",
            " |-- Mileage_split_new: double (nullable = true)\n",
            " |-- Power_split_new: double (nullable = true)\n",
            "\n"
          ]
        }
      ],
      "source": [
        "df_r.printSchema()"
      ]
    },
    {
      "cell_type": "code",
      "execution_count": null,
      "metadata": {
        "id": "02gJbGFS_B5w"
      },
      "outputs": [],
      "source": [
        "fill_values = {column: df_r.agg({column:\"mean\"}).first()[0] for column in df_r.columns if column in ['Seats','Power_split_new','Mileage_split_new','Engine_split_new']}\n",
        "df_r = df_r.na.fill(fill_values)"
      ]
    },
    {
      "cell_type": "code",
      "execution_count": null,
      "metadata": {
        "colab": {
          "base_uri": "https://localhost:8080/"
        },
        "id": "FXPb4YLA_B2E",
        "outputId": "c82d09a9-2f79-4fd5-c4d3-460ccc184735"
      },
      "outputs": [
        {
          "name": "stdout",
          "output_type": "stream",
          "text": [
            "+---+----+----+-----------------+---------+------------+----------+-------+------+-----+-----+-----+-----------+----------+------------------+-------------+-----------+------------+------------+------------------+---------------+-----------------+----------------+-----------------+---------------+\n",
            "|_c0|Name|Year|Kilometers_Driven|Fuel_Type|Transmission|Owner_Type|Mileage|Engine|Power|Seats|Price|Owner_index|Fuel_index|Transmission_index|Mileage_split|Power_split|Engine_split|Company_Name|compane_Name_index|old_of_car_year|year_old_positive|Engine_split_new|Mileage_split_new|Power_split_new|\n",
            "+---+----+----+-----------------+---------+------------+----------+-------+------+-----+-----+-----+-----------+----------+------------------+-------------+-----------+------------+------------+------------------+---------------+-----------------+----------------+-----------------+---------------+\n",
            "+---+----+----+-----------------+---------+------------+----------+-------+------+-----+-----+-----+-----------+----------+------------------+-------------+-----------+------------+------------+------------------+---------------+-----------------+----------------+-----------------+---------------+\n",
            "\n"
          ]
        }
      ],
      "source": [
        "df_r.filter(df_r.Seats.isNull()).show()"
      ]
    },
    {
      "cell_type": "code",
      "execution_count": null,
      "metadata": {
        "colab": {
          "base_uri": "https://localhost:8080/"
        },
        "id": "2S15zHfT_Byq",
        "outputId": "43fd5e9c-d0cd-460e-9645-a086715588bc"
      },
      "outputs": [
        {
          "name": "stdout",
          "output_type": "stream",
          "text": [
            "+---+----+----+-----------------+---------+------------+----------+-------+------+-----+-----+-----+-----------+----------+------------------+-------------+-----------+------------+------------+------------------+---------------+-----------------+----------------+-----------------+---------------+\n",
            "|_c0|Name|Year|Kilometers_Driven|Fuel_Type|Transmission|Owner_Type|Mileage|Engine|Power|Seats|Price|Owner_index|Fuel_index|Transmission_index|Mileage_split|Power_split|Engine_split|Company_Name|compane_Name_index|old_of_car_year|year_old_positive|Engine_split_new|Mileage_split_new|Power_split_new|\n",
            "+---+----+----+-----------------+---------+------------+----------+-------+------+-----+-----+-----+-----------+----------+------------------+-------------+-----------+------------+------------+------------------+---------------+-----------------+----------------+-----------------+---------------+\n",
            "+---+----+----+-----------------+---------+------------+----------+-------+------+-----+-----+-----+-----------+----------+------------------+-------------+-----------+------------+------------+------------------+---------------+-----------------+----------------+-----------------+---------------+\n",
            "\n"
          ]
        }
      ],
      "source": [
        "df_r.filter(df_r.Power_split_new.isNull()).show()"
      ]
    },
    {
      "cell_type": "code",
      "execution_count": null,
      "metadata": {
        "colab": {
          "base_uri": "https://localhost:8080/"
        },
        "id": "WUl1tpiE_Bvs",
        "outputId": "7c3ec318-2013-48bf-cadb-d516e5bb6e21"
      },
      "outputs": [
        {
          "name": "stdout",
          "output_type": "stream",
          "text": [
            "+---+----+----+-----------------+---------+------------+----------+-------+------+-----+-----+-----+-----------+----------+------------------+-------------+-----------+------------+------------+------------------+---------------+-----------------+----------------+-----------------+---------------+\n",
            "|_c0|Name|Year|Kilometers_Driven|Fuel_Type|Transmission|Owner_Type|Mileage|Engine|Power|Seats|Price|Owner_index|Fuel_index|Transmission_index|Mileage_split|Power_split|Engine_split|Company_Name|compane_Name_index|old_of_car_year|year_old_positive|Engine_split_new|Mileage_split_new|Power_split_new|\n",
            "+---+----+----+-----------------+---------+------------+----------+-------+------+-----+-----+-----+-----------+----------+------------------+-------------+-----------+------------+------------+------------------+---------------+-----------------+----------------+-----------------+---------------+\n",
            "+---+----+----+-----------------+---------+------------+----------+-------+------+-----+-----+-----+-----------+----------+------------------+-------------+-----------+------------+------------+------------------+---------------+-----------------+----------------+-----------------+---------------+\n",
            "\n"
          ]
        }
      ],
      "source": [
        "df_r.filter(df_r.Engine_split_new.isNull()).show()"
      ]
    },
    {
      "cell_type": "code",
      "execution_count": null,
      "metadata": {
        "colab": {
          "base_uri": "https://localhost:8080/"
        },
        "id": "XI4UiCQA_Bsi",
        "outputId": "ba874b9d-4831-40be-c447-88368b987b4a"
      },
      "outputs": [
        {
          "name": "stdout",
          "output_type": "stream",
          "text": [
            "+---+----+----+-----------------+---------+------------+----------+-------+------+-----+-----+-----+-----------+----------+------------------+-------------+-----------+------------+------------+------------------+---------------+-----------------+----------------+-----------------+---------------+\n",
            "|_c0|Name|Year|Kilometers_Driven|Fuel_Type|Transmission|Owner_Type|Mileage|Engine|Power|Seats|Price|Owner_index|Fuel_index|Transmission_index|Mileage_split|Power_split|Engine_split|Company_Name|compane_Name_index|old_of_car_year|year_old_positive|Engine_split_new|Mileage_split_new|Power_split_new|\n",
            "+---+----+----+-----------------+---------+------------+----------+-------+------+-----+-----+-----+-----------+----------+------------------+-------------+-----------+------------+------------+------------------+---------------+-----------------+----------------+-----------------+---------------+\n",
            "+---+----+----+-----------------+---------+------------+----------+-------+------+-----+-----+-----+-----------+----------+------------------+-------------+-----------+------------+------------+------------------+---------------+-----------------+----------------+-----------------+---------------+\n",
            "\n"
          ]
        }
      ],
      "source": [
        "df_r.filter(df_r.Mileage_split_new.isNull()).show()"
      ]
    },
    {
      "cell_type": "code",
      "execution_count": null,
      "metadata": {
        "colab": {
          "base_uri": "https://localhost:8080/"
        },
        "id": "J-ZWtEJYsHrR",
        "outputId": "71a652c3-b83d-40bb-a4df-37f68f81ac33"
      },
      "outputs": [
        {
          "name": "stdout",
          "output_type": "stream",
          "text": [
            "+-------------+-----+\n",
            "| Company_Name|count|\n",
            "+-------------+-----+\n",
            "|       Maruti| 1211|\n",
            "|   Volkswagen|  315|\n",
            "|       Jaguar|   40|\n",
            "|         Tata|  186|\n",
            "|         Jeep|   15|\n",
            "|   Mitsubishi|   27|\n",
            "|         Mini|   26|\n",
            "|    Chevrolet|  121|\n",
            "|        Volvo|   21|\n",
            "|      Hyundai| 1107|\n",
            "|        Honda|  608|\n",
            "|        ISUZU|    2|\n",
            "|         Audi|  236|\n",
            "|   Ambassador|    1|\n",
            "|  Lamborghini|    1|\n",
            "|        Isuzu|    1|\n",
            "|         Land|   60|\n",
            "|Mercedes-Benz|  318|\n",
            "|      Renault|  145|\n",
            "|     Mahindra|  272|\n",
            "+-------------+-----+\n",
            "only showing top 20 rows\n",
            "\n"
          ]
        }
      ],
      "source": [
        "df_r.groupBy(\"Company_Name\").count().show()"
      ]
    },
    {
      "cell_type": "code",
      "execution_count": null,
      "metadata": {
        "colab": {
          "base_uri": "https://localhost:8080/"
        },
        "id": "idve--fxsViq",
        "outputId": "2cc2bf43-d841-476a-9fb7-0468d20d27c2"
      },
      "outputs": [
        {
          "name": "stdout",
          "output_type": "stream",
          "text": [
            "+---+--------------------+----+-----------------+---------+------------+----------+----------+-------+----------+-----+-----+-----------+----------+------------------+-------------+-----------+------------+-------------+------------------+\n",
            "|_c0|                Name|Year|Kilometers_Driven|Fuel_Type|Transmission|Owner_Type|   Mileage| Engine|     Power|Seats|Price|Owner_index|Fuel_index|Transmission_index|Mileage_split|Power_split|Engine_split| Company_Name|compane_Name_index|\n",
            "+---+--------------------+----+-----------------+---------+------------+----------+----------+-------+----------+-----+-----+-----------+----------+------------------+-------------+-----------+------------+-------------+------------------+\n",
            "|  0|Maruti Wagon R LX...|2010|            72000|      CNG|      Manual|     First|26.6 km/kg| 998 CC| 58.16 bhp|  5.0| 1.75|        0.0|       2.0|               0.0|         26.6|      58.16|         998|       Maruti|               0.0|\n",
            "|  1|Hyundai Creta 1.6...|2015|            41000|   Diesel|      Manual|     First|19.67 kmpl|1582 CC| 126.2 bhp|  5.0| 12.5|        0.0|       0.0|               0.0|        19.67|      126.2|        1582|      Hyundai|               1.0|\n",
            "|  2|        Honda Jazz V|2011|            46000|   Petrol|      Manual|     First| 18.2 kmpl|1199 CC|  88.7 bhp|  5.0|  4.5|        0.0|       1.0|               0.0|         18.2|       88.7|        1199|        Honda|               2.0|\n",
            "|  3|   Maruti Ertiga VDI|2012|            87000|   Diesel|      Manual|     First|20.77 kmpl|1248 CC| 88.76 bhp|  7.0|  6.0|        0.0|       0.0|               0.0|        20.77|      88.76|        1248|       Maruti|               0.0|\n",
            "|  4|Audi A4 New 2.0 T...|2013|            40670|   Diesel|   Automatic|    Second| 15.2 kmpl|1968 CC| 140.8 bhp|  5.0|17.74|        1.0|       0.0|               1.0|         15.2|      140.8|        1968|         Audi|               9.0|\n",
            "|  5|Hyundai EON LPG E...|2012|            75000|      LPG|      Manual|     First|21.1 km/kg| 814 CC|  55.2 bhp|  5.0| 2.35|        0.0|       3.0|               0.0|         21.1|       55.2|         814|      Hyundai|               1.0|\n",
            "|  6|Nissan Micra Dies...|2013|            86999|   Diesel|      Manual|     First|23.08 kmpl|1461 CC|  63.1 bhp|  5.0|  3.5|        0.0|       0.0|               0.0|        23.08|       63.1|        1461|       Nissan|              14.0|\n",
            "|  7|Toyota Innova Cry...|2016|            36000|   Diesel|   Automatic|     First|11.36 kmpl|2755 CC| 171.5 bhp|  8.0| 17.5|        0.0|       0.0|               1.0|        11.36|      171.5|        2755|       Toyota|               3.0|\n",
            "|  8|Volkswagen Vento ...|2013|            64430|   Diesel|      Manual|     First|20.54 kmpl|1598 CC| 103.6 bhp|  5.0|  5.2|        0.0|       0.0|               0.0|        20.54|      103.6|        1598|   Volkswagen|               5.0|\n",
            "|  9|Tata Indica Vista...|2012|            65932|   Diesel|      Manual|    Second| 22.3 kmpl|1248 CC|    74 bhp|  5.0| 1.95|        1.0|       0.0|               0.0|         22.3|         74|        1248|         Tata|              10.0|\n",
            "| 10|    Maruti Ciaz Zeta|2018|            25692|   Petrol|      Manual|     First|21.56 kmpl|1462 CC|103.25 bhp|  5.0| 9.95|        0.0|       1.0|               0.0|        21.56|     103.25|        1462|       Maruti|               0.0|\n",
            "| 11|Honda City 1.5 V ...|2012|            60000|   Petrol|   Automatic|     First| 16.8 kmpl|1497 CC| 116.3 bhp|  5.0| 4.49|        0.0|       1.0|               1.0|         16.8|      116.3|        1497|        Honda|               2.0|\n",
            "| 12|Maruti Swift VDI ...|2015|            64424|   Diesel|      Manual|     First| 25.2 kmpl|1248 CC|    74 bhp|  5.0|  5.6|        0.0|       0.0|               0.0|         25.2|         74|        1248|       Maruti|               0.0|\n",
            "| 13|Land Rover Range ...|2014|            72000|   Diesel|   Automatic|     First| 12.7 kmpl|2179 CC| 187.7 bhp|  5.0| 27.0|        0.0|       0.0|               1.0|         12.7|      187.7|        2179|         Land|              15.0|\n",
            "| 14|Land Rover Freela...|2012|            85000|   Diesel|   Automatic|    Second|  0.0 kmpl|2179 CC|   115 bhp|  5.0| 17.5|        1.0|       0.0|               1.0|          0.0|        115|        2179|         Land|              15.0|\n",
            "| 15|Mitsubishi Pajero...|2014|           110000|   Diesel|      Manual|     First| 13.5 kmpl|2477 CC|175.56 bhp|  7.0| 15.0|        0.0|       0.0|               0.0|         13.5|     175.56|        2477|   Mitsubishi|              18.0|\n",
            "| 16|Honda Amaze S i-D...|2016|            58950|   Diesel|      Manual|     First| 25.8 kmpl|1498 CC|  98.6 bhp|  5.0|  5.4|        0.0|       0.0|               0.0|         25.8|       98.6|        1498|        Honda|               2.0|\n",
            "| 17|Maruti Swift DDiS...|2017|            25000|   Diesel|      Manual|     First| 28.4 kmpl|1248 CC|    74 bhp|  5.0| 5.99|        0.0|       0.0|               0.0|         28.4|         74|        1248|       Maruti|               0.0|\n",
            "| 18|Renault Duster 85...|2014|            77469|   Diesel|      Manual|     First|20.45 kmpl|1461 CC|  83.8 bhp|  5.0| 6.34|        0.0|       0.0|               0.0|        20.45|       83.8|        1461|      Renault|              12.0|\n",
            "| 19|Mercedes-Benz New...|2014|            78500|   Diesel|   Automatic|     First|14.84 kmpl|2143 CC|167.62 bhp|  5.0| 28.0|        0.0|       0.0|               1.0|        14.84|     167.62|        2143|Mercedes-Benz|               4.0|\n",
            "+---+--------------------+----+-----------------+---------+------------+----------+----------+-------+----------+-----+-----+-----------+----------+------------------+-------------+-----------+------------+-------------+------------------+\n",
            "only showing top 20 rows\n",
            "\n"
          ]
        }
      ],
      "source": [
        "indexer_new=StringIndexer(inputCol=\"Company_Name\",outputCol=\"compane_Name_index\")\n",
        "df_r=indexer_new.fit(df_r).transform(df_r)\n",
        "df_r.show()"
      ]
    },
    {
      "cell_type": "code",
      "execution_count": null,
      "metadata": {
        "id": "ErIV2D7Ft4Kf"
      },
      "outputs": [],
      "source": [
        "df_r=df_r.withColumn(\"old_of_car_year\", df_r.Year-2020)"
      ]
    },
    {
      "cell_type": "code",
      "execution_count": null,
      "metadata": {
        "colab": {
          "base_uri": "https://localhost:8080/"
        },
        "id": "W0Li5zQhy_qP",
        "outputId": "23df2df5-01ba-49ea-c5ec-e5da81bf89b5"
      },
      "outputs": [
        {
          "name": "stdout",
          "output_type": "stream",
          "text": [
            "+---+--------------------+----+-----------------+---------+------------+----------+----------+-------+----------+-----+-----+-----------+----------+------------------+-------------+-----------+------------+-------------+------------------+---------------+\n",
            "|_c0|                Name|Year|Kilometers_Driven|Fuel_Type|Transmission|Owner_Type|   Mileage| Engine|     Power|Seats|Price|Owner_index|Fuel_index|Transmission_index|Mileage_split|Power_split|Engine_split| Company_Name|compane_Name_index|old_of_car_year|\n",
            "+---+--------------------+----+-----------------+---------+------------+----------+----------+-------+----------+-----+-----+-----------+----------+------------------+-------------+-----------+------------+-------------+------------------+---------------+\n",
            "|  0|Maruti Wagon R LX...|2010|            72000|      CNG|      Manual|     First|26.6 km/kg| 998 CC| 58.16 bhp|  5.0| 1.75|        0.0|       2.0|               0.0|         26.6|      58.16|         998|       Maruti|               0.0|            -10|\n",
            "|  1|Hyundai Creta 1.6...|2015|            41000|   Diesel|      Manual|     First|19.67 kmpl|1582 CC| 126.2 bhp|  5.0| 12.5|        0.0|       0.0|               0.0|        19.67|      126.2|        1582|      Hyundai|               1.0|             -5|\n",
            "|  2|        Honda Jazz V|2011|            46000|   Petrol|      Manual|     First| 18.2 kmpl|1199 CC|  88.7 bhp|  5.0|  4.5|        0.0|       1.0|               0.0|         18.2|       88.7|        1199|        Honda|               2.0|             -9|\n",
            "|  3|   Maruti Ertiga VDI|2012|            87000|   Diesel|      Manual|     First|20.77 kmpl|1248 CC| 88.76 bhp|  7.0|  6.0|        0.0|       0.0|               0.0|        20.77|      88.76|        1248|       Maruti|               0.0|             -8|\n",
            "|  4|Audi A4 New 2.0 T...|2013|            40670|   Diesel|   Automatic|    Second| 15.2 kmpl|1968 CC| 140.8 bhp|  5.0|17.74|        1.0|       0.0|               1.0|         15.2|      140.8|        1968|         Audi|               9.0|             -7|\n",
            "|  5|Hyundai EON LPG E...|2012|            75000|      LPG|      Manual|     First|21.1 km/kg| 814 CC|  55.2 bhp|  5.0| 2.35|        0.0|       3.0|               0.0|         21.1|       55.2|         814|      Hyundai|               1.0|             -8|\n",
            "|  6|Nissan Micra Dies...|2013|            86999|   Diesel|      Manual|     First|23.08 kmpl|1461 CC|  63.1 bhp|  5.0|  3.5|        0.0|       0.0|               0.0|        23.08|       63.1|        1461|       Nissan|              14.0|             -7|\n",
            "|  7|Toyota Innova Cry...|2016|            36000|   Diesel|   Automatic|     First|11.36 kmpl|2755 CC| 171.5 bhp|  8.0| 17.5|        0.0|       0.0|               1.0|        11.36|      171.5|        2755|       Toyota|               3.0|             -4|\n",
            "|  8|Volkswagen Vento ...|2013|            64430|   Diesel|      Manual|     First|20.54 kmpl|1598 CC| 103.6 bhp|  5.0|  5.2|        0.0|       0.0|               0.0|        20.54|      103.6|        1598|   Volkswagen|               5.0|             -7|\n",
            "|  9|Tata Indica Vista...|2012|            65932|   Diesel|      Manual|    Second| 22.3 kmpl|1248 CC|    74 bhp|  5.0| 1.95|        1.0|       0.0|               0.0|         22.3|         74|        1248|         Tata|              10.0|             -8|\n",
            "| 10|    Maruti Ciaz Zeta|2018|            25692|   Petrol|      Manual|     First|21.56 kmpl|1462 CC|103.25 bhp|  5.0| 9.95|        0.0|       1.0|               0.0|        21.56|     103.25|        1462|       Maruti|               0.0|             -2|\n",
            "| 11|Honda City 1.5 V ...|2012|            60000|   Petrol|   Automatic|     First| 16.8 kmpl|1497 CC| 116.3 bhp|  5.0| 4.49|        0.0|       1.0|               1.0|         16.8|      116.3|        1497|        Honda|               2.0|             -8|\n",
            "| 12|Maruti Swift VDI ...|2015|            64424|   Diesel|      Manual|     First| 25.2 kmpl|1248 CC|    74 bhp|  5.0|  5.6|        0.0|       0.0|               0.0|         25.2|         74|        1248|       Maruti|               0.0|             -5|\n",
            "| 13|Land Rover Range ...|2014|            72000|   Diesel|   Automatic|     First| 12.7 kmpl|2179 CC| 187.7 bhp|  5.0| 27.0|        0.0|       0.0|               1.0|         12.7|      187.7|        2179|         Land|              15.0|             -6|\n",
            "| 14|Land Rover Freela...|2012|            85000|   Diesel|   Automatic|    Second|  0.0 kmpl|2179 CC|   115 bhp|  5.0| 17.5|        1.0|       0.0|               1.0|          0.0|        115|        2179|         Land|              15.0|             -8|\n",
            "| 15|Mitsubishi Pajero...|2014|           110000|   Diesel|      Manual|     First| 13.5 kmpl|2477 CC|175.56 bhp|  7.0| 15.0|        0.0|       0.0|               0.0|         13.5|     175.56|        2477|   Mitsubishi|              18.0|             -6|\n",
            "| 16|Honda Amaze S i-D...|2016|            58950|   Diesel|      Manual|     First| 25.8 kmpl|1498 CC|  98.6 bhp|  5.0|  5.4|        0.0|       0.0|               0.0|         25.8|       98.6|        1498|        Honda|               2.0|             -4|\n",
            "| 17|Maruti Swift DDiS...|2017|            25000|   Diesel|      Manual|     First| 28.4 kmpl|1248 CC|    74 bhp|  5.0| 5.99|        0.0|       0.0|               0.0|         28.4|         74|        1248|       Maruti|               0.0|             -3|\n",
            "| 18|Renault Duster 85...|2014|            77469|   Diesel|      Manual|     First|20.45 kmpl|1461 CC|  83.8 bhp|  5.0| 6.34|        0.0|       0.0|               0.0|        20.45|       83.8|        1461|      Renault|              12.0|             -6|\n",
            "| 19|Mercedes-Benz New...|2014|            78500|   Diesel|   Automatic|     First|14.84 kmpl|2143 CC|167.62 bhp|  5.0| 28.0|        0.0|       0.0|               1.0|        14.84|     167.62|        2143|Mercedes-Benz|               4.0|             -6|\n",
            "+---+--------------------+----+-----------------+---------+------------+----------+----------+-------+----------+-----+-----+-----------+----------+------------------+-------------+-----------+------------+-------------+------------------+---------------+\n",
            "only showing top 20 rows\n",
            "\n"
          ]
        }
      ],
      "source": [
        "df_r.show()"
      ]
    },
    {
      "cell_type": "code",
      "execution_count": null,
      "metadata": {
        "id": "tXcbO7YsuyMh"
      },
      "outputs": [],
      "source": [
        "df_r=df_r.withColumn('year_old_positive', - df_r['old_of_car_year'])"
      ]
    },
    {
      "cell_type": "code",
      "execution_count": null,
      "metadata": {
        "colab": {
          "base_uri": "https://localhost:8080/"
        },
        "id": "p0FS5OQyxzHW",
        "outputId": "7e8f80b6-da9d-404f-e6a0-78059536888a"
      },
      "outputs": [
        {
          "name": "stdout",
          "output_type": "stream",
          "text": [
            "+---+--------------------+----+-----------------+---------+------------+----------+----------+-------+----------+-----+-----+-----------+----------+------------------+-------------+-----------+------------+-------------+------------------+---------------+-----------------+\n",
            "|_c0|                Name|Year|Kilometers_Driven|Fuel_Type|Transmission|Owner_Type|   Mileage| Engine|     Power|Seats|Price|Owner_index|Fuel_index|Transmission_index|Mileage_split|Power_split|Engine_split| Company_Name|compane_Name_index|old_of_car_year|year_old_positive|\n",
            "+---+--------------------+----+-----------------+---------+------------+----------+----------+-------+----------+-----+-----+-----------+----------+------------------+-------------+-----------+------------+-------------+------------------+---------------+-----------------+\n",
            "|  0|Maruti Wagon R LX...|2010|            72000|      CNG|      Manual|     First|26.6 km/kg| 998 CC| 58.16 bhp|  5.0| 1.75|        0.0|       2.0|               0.0|         26.6|      58.16|         998|       Maruti|               0.0|            -10|               10|\n",
            "|  1|Hyundai Creta 1.6...|2015|            41000|   Diesel|      Manual|     First|19.67 kmpl|1582 CC| 126.2 bhp|  5.0| 12.5|        0.0|       0.0|               0.0|        19.67|      126.2|        1582|      Hyundai|               1.0|             -5|                5|\n",
            "|  2|        Honda Jazz V|2011|            46000|   Petrol|      Manual|     First| 18.2 kmpl|1199 CC|  88.7 bhp|  5.0|  4.5|        0.0|       1.0|               0.0|         18.2|       88.7|        1199|        Honda|               2.0|             -9|                9|\n",
            "|  3|   Maruti Ertiga VDI|2012|            87000|   Diesel|      Manual|     First|20.77 kmpl|1248 CC| 88.76 bhp|  7.0|  6.0|        0.0|       0.0|               0.0|        20.77|      88.76|        1248|       Maruti|               0.0|             -8|                8|\n",
            "|  4|Audi A4 New 2.0 T...|2013|            40670|   Diesel|   Automatic|    Second| 15.2 kmpl|1968 CC| 140.8 bhp|  5.0|17.74|        1.0|       0.0|               1.0|         15.2|      140.8|        1968|         Audi|               9.0|             -7|                7|\n",
            "|  5|Hyundai EON LPG E...|2012|            75000|      LPG|      Manual|     First|21.1 km/kg| 814 CC|  55.2 bhp|  5.0| 2.35|        0.0|       3.0|               0.0|         21.1|       55.2|         814|      Hyundai|               1.0|             -8|                8|\n",
            "|  6|Nissan Micra Dies...|2013|            86999|   Diesel|      Manual|     First|23.08 kmpl|1461 CC|  63.1 bhp|  5.0|  3.5|        0.0|       0.0|               0.0|        23.08|       63.1|        1461|       Nissan|              14.0|             -7|                7|\n",
            "|  7|Toyota Innova Cry...|2016|            36000|   Diesel|   Automatic|     First|11.36 kmpl|2755 CC| 171.5 bhp|  8.0| 17.5|        0.0|       0.0|               1.0|        11.36|      171.5|        2755|       Toyota|               3.0|             -4|                4|\n",
            "|  8|Volkswagen Vento ...|2013|            64430|   Diesel|      Manual|     First|20.54 kmpl|1598 CC| 103.6 bhp|  5.0|  5.2|        0.0|       0.0|               0.0|        20.54|      103.6|        1598|   Volkswagen|               5.0|             -7|                7|\n",
            "|  9|Tata Indica Vista...|2012|            65932|   Diesel|      Manual|    Second| 22.3 kmpl|1248 CC|    74 bhp|  5.0| 1.95|        1.0|       0.0|               0.0|         22.3|         74|        1248|         Tata|              10.0|             -8|                8|\n",
            "| 10|    Maruti Ciaz Zeta|2018|            25692|   Petrol|      Manual|     First|21.56 kmpl|1462 CC|103.25 bhp|  5.0| 9.95|        0.0|       1.0|               0.0|        21.56|     103.25|        1462|       Maruti|               0.0|             -2|                2|\n",
            "| 11|Honda City 1.5 V ...|2012|            60000|   Petrol|   Automatic|     First| 16.8 kmpl|1497 CC| 116.3 bhp|  5.0| 4.49|        0.0|       1.0|               1.0|         16.8|      116.3|        1497|        Honda|               2.0|             -8|                8|\n",
            "| 12|Maruti Swift VDI ...|2015|            64424|   Diesel|      Manual|     First| 25.2 kmpl|1248 CC|    74 bhp|  5.0|  5.6|        0.0|       0.0|               0.0|         25.2|         74|        1248|       Maruti|               0.0|             -5|                5|\n",
            "| 13|Land Rover Range ...|2014|            72000|   Diesel|   Automatic|     First| 12.7 kmpl|2179 CC| 187.7 bhp|  5.0| 27.0|        0.0|       0.0|               1.0|         12.7|      187.7|        2179|         Land|              15.0|             -6|                6|\n",
            "| 14|Land Rover Freela...|2012|            85000|   Diesel|   Automatic|    Second|  0.0 kmpl|2179 CC|   115 bhp|  5.0| 17.5|        1.0|       0.0|               1.0|          0.0|        115|        2179|         Land|              15.0|             -8|                8|\n",
            "| 15|Mitsubishi Pajero...|2014|           110000|   Diesel|      Manual|     First| 13.5 kmpl|2477 CC|175.56 bhp|  7.0| 15.0|        0.0|       0.0|               0.0|         13.5|     175.56|        2477|   Mitsubishi|              18.0|             -6|                6|\n",
            "| 16|Honda Amaze S i-D...|2016|            58950|   Diesel|      Manual|     First| 25.8 kmpl|1498 CC|  98.6 bhp|  5.0|  5.4|        0.0|       0.0|               0.0|         25.8|       98.6|        1498|        Honda|               2.0|             -4|                4|\n",
            "| 17|Maruti Swift DDiS...|2017|            25000|   Diesel|      Manual|     First| 28.4 kmpl|1248 CC|    74 bhp|  5.0| 5.99|        0.0|       0.0|               0.0|         28.4|         74|        1248|       Maruti|               0.0|             -3|                3|\n",
            "| 18|Renault Duster 85...|2014|            77469|   Diesel|      Manual|     First|20.45 kmpl|1461 CC|  83.8 bhp|  5.0| 6.34|        0.0|       0.0|               0.0|        20.45|       83.8|        1461|      Renault|              12.0|             -6|                6|\n",
            "| 19|Mercedes-Benz New...|2014|            78500|   Diesel|   Automatic|     First|14.84 kmpl|2143 CC|167.62 bhp|  5.0| 28.0|        0.0|       0.0|               1.0|        14.84|     167.62|        2143|Mercedes-Benz|               4.0|             -6|                6|\n",
            "+---+--------------------+----+-----------------+---------+------------+----------+----------+-------+----------+-----+-----+-----------+----------+------------------+-------------+-----------+------------+-------------+------------------+---------------+-----------------+\n",
            "only showing top 20 rows\n",
            "\n"
          ]
        }
      ],
      "source": [
        "df_r.show()"
      ]
    },
    {
      "cell_type": "code",
      "execution_count": null,
      "metadata": {
        "id": "Os24IsAkzHUV"
      },
      "outputs": [],
      "source": [
        "from pyspark.ml.feature import VectorAssembler"
      ]
    },
    {
      "cell_type": "code",
      "execution_count": null,
      "metadata": {
        "colab": {
          "base_uri": "https://localhost:8080/"
        },
        "id": "UZJh5Dztz9P3",
        "outputId": "7953bdbc-96c1-4c5e-b1e1-58400b4be1b3"
      },
      "outputs": [
        {
          "name": "stdout",
          "output_type": "stream",
          "text": [
            "root\n",
            " |-- _c0: integer (nullable = true)\n",
            " |-- Name: string (nullable = true)\n",
            " |-- Year: integer (nullable = true)\n",
            " |-- Kilometers_Driven: integer (nullable = true)\n",
            " |-- Fuel_Type: string (nullable = true)\n",
            " |-- Transmission: string (nullable = true)\n",
            " |-- Owner_Type: string (nullable = true)\n",
            " |-- Mileage: string (nullable = true)\n",
            " |-- Engine: string (nullable = true)\n",
            " |-- Power: string (nullable = true)\n",
            " |-- Seats: double (nullable = true)\n",
            " |-- Price: double (nullable = true)\n",
            " |-- Owner_index: double (nullable = false)\n",
            " |-- Fuel_index: double (nullable = false)\n",
            " |-- Transmission_index: double (nullable = false)\n",
            " |-- Mileage_split: string (nullable = true)\n",
            " |-- Power_split: string (nullable = true)\n",
            " |-- Engine_split: string (nullable = true)\n",
            " |-- Company_Name: string (nullable = true)\n",
            " |-- compane_Name_index: double (nullable = false)\n",
            " |-- old_of_car_year: integer (nullable = true)\n",
            " |-- year_old_positive: integer (nullable = true)\n",
            "\n"
          ]
        }
      ],
      "source": [
        "df_r.printSchema()"
      ]
    },
    {
      "cell_type": "code",
      "execution_count": null,
      "metadata": {
        "id": "DYIRnWL71cDE"
      },
      "outputs": [],
      "source": [
        "df_r=df_r.withColumn(\"Engine_split_new\",df_r.Engine_split.cast('double'))"
      ]
    },
    {
      "cell_type": "code",
      "execution_count": null,
      "metadata": {
        "id": "HbiPhf7L1pLH"
      },
      "outputs": [],
      "source": [
        "df_r=df_r.withColumn(\"Mileage_split_new\",df_r.Mileage_split.cast('double'))\n",
        "df_r=df_r.withColumn(\"Power_split_new\",df_r.Power_split.cast('double'))"
      ]
    },
    {
      "cell_type": "code",
      "execution_count": null,
      "metadata": {
        "colab": {
          "base_uri": "https://localhost:8080/"
        },
        "id": "UfkGyKrA1o9j",
        "outputId": "4ab04158-2c57-4687-f9ab-d365809eb72e"
      },
      "outputs": [
        {
          "name": "stdout",
          "output_type": "stream",
          "text": [
            "root\n",
            " |-- _c0: integer (nullable = true)\n",
            " |-- Name: string (nullable = true)\n",
            " |-- Year: integer (nullable = true)\n",
            " |-- Kilometers_Driven: integer (nullable = true)\n",
            " |-- Fuel_Type: string (nullable = true)\n",
            " |-- Transmission: string (nullable = true)\n",
            " |-- Owner_Type: string (nullable = true)\n",
            " |-- Mileage: string (nullable = true)\n",
            " |-- Engine: string (nullable = true)\n",
            " |-- Power: string (nullable = true)\n",
            " |-- Seats: double (nullable = true)\n",
            " |-- Price: double (nullable = true)\n",
            " |-- Owner_index: double (nullable = false)\n",
            " |-- Fuel_index: double (nullable = false)\n",
            " |-- Transmission_index: double (nullable = false)\n",
            " |-- Mileage_split: string (nullable = true)\n",
            " |-- Power_split: string (nullable = true)\n",
            " |-- Engine_split: string (nullable = true)\n",
            " |-- Company_Name: string (nullable = true)\n",
            " |-- compane_Name_index: double (nullable = false)\n",
            " |-- old_of_car_year: integer (nullable = true)\n",
            " |-- year_old_positive: integer (nullable = true)\n",
            " |-- Engine_split_new: double (nullable = true)\n",
            " |-- Mileage_split_new: double (nullable = true)\n",
            " |-- Power_split_new: double (nullable = true)\n",
            "\n"
          ]
        }
      ],
      "source": [
        "df_r.printSchema()"
      ]
    },
    {
      "cell_type": "code",
      "execution_count": null,
      "metadata": {
        "id": "RXCGxEma1oxJ"
      },
      "outputs": [],
      "source": [
        "featureassembler=VectorAssembler(inputCols=[\"year_old_positive\",\"Engine_split_new\",\"Power_split_new\",\"Mileage_split_new\",\"Transmission_index\",\"Fuel_index\",\"Owner_index\",\"Seats\",\"Kilometers_Driven\"],outputCol=\"Independent Features\")"
      ]
    },
    {
      "cell_type": "code",
      "execution_count": null,
      "metadata": {
        "id": "87NcZcNU0xB5"
      },
      "outputs": [],
      "source": [
        "output=featureassembler.transform(df_r)"
      ]
    },
    {
      "cell_type": "code",
      "execution_count": null,
      "metadata": {
        "colab": {
          "base_uri": "https://localhost:8080/"
        },
        "id": "ihWtjw0Y07-B",
        "outputId": "75ef3c12-2d40-4813-9d79-17475a3cdbe6"
      },
      "outputs": [
        {
          "name": "stdout",
          "output_type": "stream",
          "text": [
            "+--------------------+\n",
            "|Independent Features|\n",
            "+--------------------+\n",
            "|[10.0,998.0,58.16...|\n",
            "|[5.0,1582.0,126.2...|\n",
            "|[9.0,1199.0,88.7,...|\n",
            "|[8.0,1248.0,88.76...|\n",
            "|[7.0,1968.0,140.8...|\n",
            "|[8.0,814.0,55.2,2...|\n",
            "|[7.0,1461.0,63.1,...|\n",
            "|[4.0,2755.0,171.5...|\n",
            "|[7.0,1598.0,103.6...|\n",
            "|[8.0,1248.0,74.0,...|\n",
            "|[2.0,1462.0,103.2...|\n",
            "|[8.0,1497.0,116.3...|\n",
            "|[5.0,1248.0,74.0,...|\n",
            "|[6.0,2179.0,187.7...|\n",
            "|[8.0,2179.0,115.0...|\n",
            "|[6.0,2477.0,175.5...|\n",
            "|[4.0,1498.0,98.6,...|\n",
            "|[3.0,1248.0,74.0,...|\n",
            "|[6.0,1461.0,83.8,...|\n",
            "|[6.0,2143.0,167.6...|\n",
            "+--------------------+\n",
            "only showing top 20 rows\n",
            "\n"
          ]
        }
      ],
      "source": [
        "output.select(\"Independent Features\").show()"
      ]
    },
    {
      "cell_type": "code",
      "execution_count": null,
      "metadata": {
        "id": "LluD36032rs5"
      },
      "outputs": [],
      "source": [
        "finalized_data=output.select(\"Independent Features\",\"Price\")"
      ]
    },
    {
      "cell_type": "code",
      "execution_count": null,
      "metadata": {
        "colab": {
          "base_uri": "https://localhost:8080/"
        },
        "id": "ySZAAj3V3MGS",
        "outputId": "d6718021-d779-4b19-fe6f-7eac30ea918e"
      },
      "outputs": [
        {
          "name": "stdout",
          "output_type": "stream",
          "text": [
            "+--------------------+-----+\n",
            "|Independent Features|Price|\n",
            "+--------------------+-----+\n",
            "|[10.0,998.0,58.16...| 1.75|\n",
            "|[5.0,1582.0,126.2...| 12.5|\n",
            "|[9.0,1199.0,88.7,...|  4.5|\n",
            "|[8.0,1248.0,88.76...|  6.0|\n",
            "|[7.0,1968.0,140.8...|17.74|\n",
            "|[8.0,814.0,55.2,2...| 2.35|\n",
            "|[7.0,1461.0,63.1,...|  3.5|\n",
            "|[4.0,2755.0,171.5...| 17.5|\n",
            "|[7.0,1598.0,103.6...|  5.2|\n",
            "|[8.0,1248.0,74.0,...| 1.95|\n",
            "|[2.0,1462.0,103.2...| 9.95|\n",
            "|[8.0,1497.0,116.3...| 4.49|\n",
            "|[5.0,1248.0,74.0,...|  5.6|\n",
            "|[6.0,2179.0,187.7...| 27.0|\n",
            "|[8.0,2179.0,115.0...| 17.5|\n",
            "|[6.0,2477.0,175.5...| 15.0|\n",
            "|[4.0,1498.0,98.6,...|  5.4|\n",
            "|[3.0,1248.0,74.0,...| 5.99|\n",
            "|[6.0,1461.0,83.8,...| 6.34|\n",
            "|[6.0,2143.0,167.6...| 28.0|\n",
            "+--------------------+-----+\n",
            "only showing top 20 rows\n",
            "\n"
          ]
        }
      ],
      "source": [
        "finalized_data.show()"
      ]
    },
    {
      "cell_type": "code",
      "execution_count": null,
      "metadata": {
        "id": "mQS16i493QWG"
      },
      "outputs": [],
      "source": [
        "from pyspark.ml.regression import LinearRegression"
      ]
    },
    {
      "cell_type": "code",
      "execution_count": null,
      "metadata": {
        "id": "sgO_6PB23dDp"
      },
      "outputs": [],
      "source": [
        "train_data,test_data=finalized_data.randomSplit([0.75,0.25])\n",
        "regressor=LinearRegression(featuresCol='Independent Features',labelCol='Price')\n"
      ]
    },
    {
      "cell_type": "code",
      "execution_count": null,
      "metadata": {
        "id": "cYB9O3Wk4XZn"
      },
      "outputs": [],
      "source": [
        "regressor=regressor.fit(train_data)"
      ]
    },
    {
      "cell_type": "code",
      "execution_count": null,
      "metadata": {
        "id": "XaywpTqX6L-0"
      },
      "outputs": [],
      "source": [
        "# from pyspark.ml.regression import LinearRegression\n",
        "# lr = LinearRegression(featuresCol = 'Independent Features', labelCol='Price', maxIter=10, regParam=0.3, elasticNetParam=0.8)\n",
        "# lr_model = lr.fit(train_df)\n",
        "# print(\"Coefficients: \" + str(lr_model.coefficients))\n",
        "# print(\"Intercept: \" + str(lr_model.intercept))\n"
      ]
    },
    {
      "cell_type": "code",
      "execution_count": null,
      "metadata": {
        "colab": {
          "base_uri": "https://localhost:8080/"
        },
        "id": "0F-pDpKQ664i",
        "outputId": "b983adb3-fb27-4f7b-b636-21ddb799410b"
      },
      "outputs": [
        {
          "data": {
            "text/plain": [
              "7.338266318441497"
            ]
          },
          "execution_count": 189,
          "metadata": {},
          "output_type": "execute_result"
        }
      ],
      "source": [
        "regressor.intercept"
      ]
    },
    {
      "cell_type": "code",
      "execution_count": null,
      "metadata": {
        "id": "I5u8GgFN6_5u"
      },
      "outputs": [],
      "source": [
        "pred_result=regressor.evaluate(test_data)"
      ]
    },
    {
      "cell_type": "code",
      "execution_count": null,
      "metadata": {
        "colab": {
          "base_uri": "https://localhost:8080/"
        },
        "id": "vmCVKTGl7KJN",
        "outputId": "f33cad33-7df8-443f-d169-6c2474844136"
      },
      "outputs": [
        {
          "name": "stderr",
          "output_type": "stream",
          "text": [
            "/usr/local/lib/python3.7/dist-packages/pyspark/sql/context.py:127: FutureWarning: Deprecated in 3.0.0. Use SparkSession.builder.getOrCreate() instead.\n",
            "  FutureWarning\n"
          ]
        },
        {
          "name": "stdout",
          "output_type": "stream",
          "text": [
            "+--------------------+-----+-------------------+\n",
            "|Independent Features|Price|         prediction|\n",
            "+--------------------+-----+-------------------+\n",
            "|[1.0,796.0,34.2,1...|  3.8|-0.2818517982172599|\n",
            "|[1.0,1196.0,73.0,...| 5.38|   6.88624513517602|\n",
            "|[1.0,1197.0,81.8,...| 7.36| 11.609318505783936|\n",
            "|[1.0,1197.0,81.8,...|  8.3| 11.490040139189597|\n",
            "|[1.0,1197.0,81.83...| 6.27|  9.208740046787621|\n",
            "|[1.0,1197.0,81.86...|  6.5|   9.11941937444197|\n",
            "|[1.0,1198.0,86.7,...| 9.31|  9.870792671288878|\n",
            "|[1.0,1199.0,84.0,...| 5.85|  8.846159728173802|\n",
            "|[1.0,1199.0,84.0,...| 6.94|  8.855039854479582|\n",
            "|[1.0,1199.0,88.76...| 8.86| 12.725096921184047|\n",
            "|[1.0,1248.0,88.5,...|10.49| 11.100412669779375|\n",
            "|[1.0,1461.0,108.4...|13.37|  14.31316103055078|\n",
            "|[1.0,1498.0,98.96...|11.65| 12.913875019583557|\n",
            "|[1.0,1591.0,121.3...|11.88| 14.814420893760076|\n",
            "|[1.0,1591.0,121.3...|11.54| 14.799309243274006|\n",
            "|[1.0,1798.0,177.4...| 27.3| 24.976972250211237|\n",
            "|[1.0,1950.0,181.4...|38.99| 27.408730409965052|\n",
            "|[1.0,1968.0,174.3...|32.91| 26.291663583585162|\n",
            "|[1.0,1995.0,190.0...| 6.67|  27.70329384698806|\n",
            "|[1.0,1999.0,148.3...|56.14|  21.51022198737473|\n",
            "+--------------------+-----+-------------------+\n",
            "only showing top 20 rows\n",
            "\n"
          ]
        }
      ],
      "source": [
        "pred_result.predictions.show()"
      ]
    },
    {
      "cell_type": "code",
      "execution_count": null,
      "metadata": {
        "colab": {
          "base_uri": "https://localhost:8080/"
        },
        "id": "EEXV0cof7Pl5",
        "outputId": "ebb13562-9a9a-42a8-d6f4-9ce239b05cc8"
      },
      "outputs": [
        {
          "name": "stdout",
          "output_type": "stream",
          "text": [
            "RMSE: 6.139954\n",
            "r2: 0.691266\n"
          ]
        }
      ],
      "source": [
        "trainingSummary = regressor.summary\n",
        "print(\"RMSE: %f\" % trainingSummary.rootMeanSquaredError)\n",
        "print(\"r2: %f\" % trainingSummary.r2)"
      ]
    },
    {
      "cell_type": "code",
      "execution_count": null,
      "metadata": {
        "colab": {
          "base_uri": "https://localhost:8080/"
        },
        "id": "wdMEwPWYBOO0",
        "outputId": "9f4fe0d6-1620-40bd-f636-c9acef7f3bd8"
      },
      "outputs": [
        {
          "name": "stdout",
          "output_type": "stream",
          "text": [
            "Root Mean Squared Error (RMSE) on test data = 6.40207\n"
          ]
        }
      ],
      "source": [
        "\n",
        "print(\"Root Mean Squared Error (RMSE) on test data = %g\" % pred_result.rootMeanSquaredError)"
      ]
    },
    {
      "cell_type": "code",
      "execution_count": null,
      "metadata": {
        "id": "GdUyQetgBmjL"
      },
      "outputs": [],
      "source": [
        ""
      ]
    },
    {
      "cell_type": "code",
      "execution_count": null,
      "metadata": {
        "id": "mr9wxo3vZzX7"
      },
      "outputs": [],
      "source": [
        ""
      ]
    },
    {
      "cell_type": "code",
      "execution_count": null,
      "metadata": {
        "colab": {
          "base_uri": "https://localhost:8080/"
        },
        "id": "sUXR3rJWZzUV",
        "outputId": "bb134e97-9909-4b1a-8fe0-0891f792e17b"
      },
      "outputs": [
        {
          "output_type": "stream",
          "name": "stdout",
          "text": [
            "Collecting pyspark\n",
            "  Downloading pyspark-3.2.1.tar.gz (281.4 MB)\n",
            "\u001b[K     |████████████████████████████████| 281.4 MB 35 kB/s \n",
            "\u001b[?25hCollecting py4j==0.10.9.3\n",
            "  Downloading py4j-0.10.9.3-py2.py3-none-any.whl (198 kB)\n",
            "\u001b[K     |████████████████████████████████| 198 kB 51.7 MB/s \n",
            "\u001b[?25hBuilding wheels for collected packages: pyspark\n",
            "  Building wheel for pyspark (setup.py) ... \u001b[?25l\u001b[?25hdone\n",
            "  Created wheel for pyspark: filename=pyspark-3.2.1-py2.py3-none-any.whl size=281853642 sha256=30b0101c2fa0a13392294ad27a026dd589f7842370b07d2bb8abb6edb8ef7a3d\n",
            "  Stored in directory: /root/.cache/pip/wheels/9f/f5/07/7cd8017084dce4e93e84e92efd1e1d5334db05f2e83bcef74f\n",
            "Successfully built pyspark\n",
            "Installing collected packages: py4j, pyspark\n",
            "Successfully installed py4j-0.10.9.3 pyspark-3.2.1\n"
          ]
        }
      ],
      "source": [
        "!pip install pyspark"
      ]
    },
    {
      "cell_type": "code",
      "execution_count": null,
      "metadata": {
        "id": "Y6hu3AlPZzQ1"
      },
      "outputs": [],
      "source": [
        "from pyspark.sql import SparkSession"
      ]
    },
    {
      "cell_type": "code",
      "execution_count": null,
      "metadata": {
        "id": "tfuvobdyZzM8"
      },
      "outputs": [],
      "source": [
        "spark = SparkSession.builder.appName('nlp').getOrCreate()"
      ]
    },
    {
      "cell_type": "code",
      "execution_count": null,
      "metadata": {
        "colab": {
          "base_uri": "https://localhost:8080/"
        },
        "id": "ZbidxAU_ZzIK",
        "outputId": "9100c7eb-3d54-435f-ead8-4c9d22b9fea7"
      },
      "outputs": [
        {
          "output_type": "stream",
          "name": "stdout",
          "text": [
            "+-----+--------------------+----+----+----+\n",
            "|Class|                Text| _c2| _c3| _c4|\n",
            "+-----+--------------------+----+----+----+\n",
            "|  ham|Go until jurong p...|null|null|null|\n",
            "|  ham|Ok lar... Joking ...|null|null|null|\n",
            "| spam|Free entry in 2 a...|null|null|null|\n",
            "|  ham|U dun say so earl...|null|null|null|\n",
            "|  ham|Nah I don't think...|null|null|null|\n",
            "| spam|FreeMsg Hey there...|null|null|null|\n",
            "|  ham|Even my brother i...|null|null|null|\n",
            "|  ham|As per your reque...|null|null|null|\n",
            "| spam|WINNER!! As a val...|null|null|null|\n",
            "| spam|Had your mobile 1...|null|null|null|\n",
            "|  ham|I'm gonna be home...|null|null|null|\n",
            "| spam|SIX chances to wi...|null|null|null|\n",
            "| spam|URGENT! You have ...|null|null|null|\n",
            "|  ham|I've been searchi...|null|null|null|\n",
            "|  ham|I HAVE A DATE ON ...|null|null|null|\n",
            "| spam|XXXMobileMovieClu...|null|null|null|\n",
            "|  ham|Oh k...i'm watchi...|null|null|null|\n",
            "|  ham|Eh u remember how...|null|null|null|\n",
            "|  ham|Fine if that?s th...|null|null|null|\n",
            "| spam|England v Macedon...|null|null|null|\n",
            "+-----+--------------------+----+----+----+\n",
            "only showing top 20 rows\n",
            "\n"
          ]
        }
      ],
      "source": [
        "data = spark.read.csv(\"spam_final.csv\",header=True,inferSchema=True)\n",
        "data.show()"
      ]
    },
    {
      "cell_type": "code",
      "execution_count": null,
      "metadata": {
        "id": "_cSk2ZkCZzEq"
      },
      "outputs": [],
      "source": [
        "data=data.drop(\"_c2\")"
      ]
    },
    {
      "cell_type": "code",
      "execution_count": null,
      "metadata": {
        "id": "PIHD-MLmZzBH"
      },
      "outputs": [],
      "source": [
        "data=data.drop(\"_c3\")"
      ]
    },
    {
      "cell_type": "code",
      "execution_count": null,
      "metadata": {
        "id": "zvyaFaooZy9X"
      },
      "outputs": [],
      "source": [
        "data=data.drop(\"_c4\")"
      ]
    },
    {
      "cell_type": "code",
      "execution_count": null,
      "metadata": {
        "colab": {
          "base_uri": "https://localhost:8080/"
        },
        "id": "oQwqOQJ5Zy6C",
        "outputId": "746e160e-ee1a-4591-8ef3-391deea2dda3"
      },
      "outputs": [
        {
          "output_type": "stream",
          "name": "stdout",
          "text": [
            "+-----+--------------------+\n",
            "|Class|                Text|\n",
            "+-----+--------------------+\n",
            "|  ham|Go until jurong p...|\n",
            "|  ham|Ok lar... Joking ...|\n",
            "| spam|Free entry in 2 a...|\n",
            "|  ham|U dun say so earl...|\n",
            "|  ham|Nah I don't think...|\n",
            "| spam|FreeMsg Hey there...|\n",
            "|  ham|Even my brother i...|\n",
            "|  ham|As per your reque...|\n",
            "| spam|WINNER!! As a val...|\n",
            "| spam|Had your mobile 1...|\n",
            "|  ham|I'm gonna be home...|\n",
            "| spam|SIX chances to wi...|\n",
            "| spam|URGENT! You have ...|\n",
            "|  ham|I've been searchi...|\n",
            "|  ham|I HAVE A DATE ON ...|\n",
            "| spam|XXXMobileMovieClu...|\n",
            "|  ham|Oh k...i'm watchi...|\n",
            "|  ham|Eh u remember how...|\n",
            "|  ham|Fine if that?s th...|\n",
            "| spam|England v Macedon...|\n",
            "+-----+--------------------+\n",
            "only showing top 20 rows\n",
            "\n"
          ]
        }
      ],
      "source": [
        "data.show()"
      ]
    },
    {
      "cell_type": "code",
      "execution_count": null,
      "metadata": {
        "colab": {
          "base_uri": "https://localhost:8080/"
        },
        "id": "Aaa5VVEuZy2J",
        "outputId": "14636aea-f0de-4e11-c291-fac25aa6217a"
      },
      "outputs": [
        {
          "output_type": "stream",
          "name": "stdout",
          "text": [
            "+-----+--------------------+------+\n",
            "|Class|                Text|length|\n",
            "+-----+--------------------+------+\n",
            "|  ham|Go until jurong p...|   111|\n",
            "|  ham|Ok lar... Joking ...|    29|\n",
            "| spam|Free entry in 2 a...|   155|\n",
            "|  ham|U dun say so earl...|    49|\n",
            "|  ham|Nah I don't think...|    61|\n",
            "| spam|FreeMsg Hey there...|   147|\n",
            "|  ham|Even my brother i...|    77|\n",
            "|  ham|As per your reque...|   160|\n",
            "| spam|WINNER!! As a val...|   157|\n",
            "| spam|Had your mobile 1...|   154|\n",
            "|  ham|I'm gonna be home...|   109|\n",
            "| spam|SIX chances to wi...|   136|\n",
            "| spam|URGENT! You have ...|   155|\n",
            "|  ham|I've been searchi...|   196|\n",
            "|  ham|I HAVE A DATE ON ...|    35|\n",
            "| spam|XXXMobileMovieClu...|   149|\n",
            "|  ham|Oh k...i'm watchi...|    26|\n",
            "|  ham|Eh u remember how...|    81|\n",
            "|  ham|Fine if that?s th...|    56|\n",
            "| spam|England v Macedon...|   156|\n",
            "+-----+--------------------+------+\n",
            "only showing top 20 rows\n",
            "\n"
          ]
        }
      ],
      "source": [
        "from pyspark.sql.functions import length\n",
        "data = data.withColumn('length',length(data['Text']))\n",
        "data.show()"
      ]
    },
    {
      "cell_type": "code",
      "execution_count": null,
      "metadata": {
        "id": "xEDynadeZyx_"
      },
      "outputs": [],
      "source": [
        "from pyspark.ml.feature import Tokenizer,StopWordsRemover, CountVectorizer,IDF,StringIndexer\n",
        "from pyspark.ml.feature import VectorAssembler\n",
        "from pyspark.ml.linalg import Vector\n",
        "tokenizer = Tokenizer(inputCol=\"Text\", outputCol=\"token_text\")\n",
        "stopremove = StopWordsRemover(inputCol='token_text',outputCol='stop_tokens')\n",
        "count_vec = CountVectorizer(inputCol='stop_tokens',outputCol='c_vec')\n",
        "idf = IDF(inputCol=\"c_vec\", outputCol=\"tf_idf\")\n",
        "ham_spam_to_num = StringIndexer(inputCol='Class',outputCol='label')\n",
        "clean_up = VectorAssembler(inputCols=['tf_idf','length'],outputCol='features')"
      ]
    },
    {
      "cell_type": "code",
      "execution_count": null,
      "metadata": {
        "id": "eUwek8BGZyul"
      },
      "outputs": [],
      "source": [
        "from pyspark.ml.classification import NaiveBayes\n",
        "# Use defaults\n",
        "nb = NaiveBayes()"
      ]
    },
    {
      "cell_type": "code",
      "execution_count": null,
      "metadata": {
        "id": "f6KVwRz_Zyqz"
      },
      "outputs": [],
      "source": [
        "from pyspark.ml import Pipeline\n"
      ]
    },
    {
      "cell_type": "code",
      "execution_count": null,
      "metadata": {
        "id": "RVMi7lCqZyne"
      },
      "outputs": [],
      "source": [
        "data_prep_pipe=Pipeline(stages=[ham_spam_to_num,tokenizer,stopremove,count_vec,idf,clean_up])\n"
      ]
    },
    {
      "cell_type": "code",
      "execution_count": null,
      "metadata": {
        "id": "xTWAy8hqZyjn"
      },
      "outputs": [],
      "source": [
        "cleaner = data_prep_pipe.fit(data)\n",
        "clean_data = cleaner.transform(data)"
      ]
    },
    {
      "cell_type": "code",
      "execution_count": null,
      "metadata": {
        "colab": {
          "base_uri": "https://localhost:8080/"
        },
        "id": "bmr7tOsGgoBS",
        "outputId": "093ad3e8-5791-4db6-9baa-63fd8e241669"
      },
      "outputs": [
        {
          "output_type": "stream",
          "name": "stdout",
          "text": [
            "+-----+--------------------+------+-----+--------------------+--------------------+--------------------+--------------------+--------------------+--------------------+--------------------+----------+\n",
            "|Class|                Text|length|label|          token_text|         stop_tokens|               c_vec|              tf_idf|            features|       rawPrediction|         probability|prediction|\n",
            "+-----+--------------------+------+-----+--------------------+--------------------+--------------------+--------------------+--------------------+--------------------+--------------------+----------+\n",
            "|  ham| &lt;#&gt;  in mc...|    36|  0.0|[, &lt;#&gt;, , i...|[, &lt;#&gt;, , m...|(13338,[3,6,5108,...|(13338,[3,6,5108,...|(13339,[3,6,5108,...|[-278.88317039141...|[1.0,3.2307180936...|       0.0|\n",
            "|  ham| &lt;#&gt;  mins ...|    51|  0.0|[, &lt;#&gt;, , m...|[, &lt;#&gt;, , m...|(13338,[3,6,40,20...|(13338,[3,6,40,20...|(13339,[3,6,40,20...|[-324.18582400325...|[1.0,1.8834700740...|       0.0|\n",
            "|  ham| says that he's q...|   200|  0.0|[, says, that, he...|[, says, quitting...|(13338,[0,3,14,18...|(13338,[0,3,14,18...|(13339,[0,3,14,18...|[-1218.6575170660...|[1.0,6.6089876417...|       0.0|\n",
            "|  ham|\"Edison has right...|   145|  0.0|[\"edison, has, ri...|[\"edison, rightly...|(13338,[12,62,129...|(13338,[12,62,129...|(13339,[12,62,129...|[-1035.2890961887...|[1.0,4.2285879618...|       0.0|\n",
            "|  ham|\"Happy or sad , o...|    79|  0.0|[\"happy, or, sad,...|[\"happy, sad, ,, ...|(13338,[15,28,152...|(13338,[15,28,152...|(13339,[15,28,152...|[-816.53748353374...|[1.0,3.3472615197...|       0.0|\n",
            "|  ham|\"Storming msg: We...|   282|  0.0|[\"storming, msg:,...|[\"storming, msg:,...|(13338,[0,9,56,68...|(13338,[0,9,56,68...|(13339,[0,9,56,68...|[-2498.6110562148...|[1.0,9.8513295053...|       0.0|\n",
            "|  ham|\"When I was born,...|    72|  0.0|[\"when, i, was, b...|[\"when, born,, go...|(13338,[211,341,1...|(13338,[211,341,1...|(13339,[211,341,1...|[-754.42724776868...|[0.99999999999988...|       0.0|\n",
            "|  ham|&lt;#&gt;  is fas...|   461|  0.0|[&lt;#&gt;, , is,...|[&lt;#&gt;, , fas...|(13338,[0,3,6,8,1...|(13338,[0,3,6,8,1...|(13339,[0,3,6,8,1...|[-3692.6775047142...|[1.0,9.4096419823...|       0.0|\n",
            "|  ham|&lt;#&gt; , that'...|    48|  0.0|[&lt;#&gt;, ,, th...|[&lt;#&gt;, ,, al...|(13338,[6,215,254...|(13338,[6,215,254...|(13339,[6,215,254...|[-331.36615119249...|[1.0,3.5083774116...|       0.0|\n",
            "|  ham|&lt;#&gt; ISH MIN...|    45|  0.0|[&lt;#&gt;, ish, ...|[&lt;#&gt;, ish, ...|(13338,[6,241,280...|(13338,[6,241,280...|(13339,[6,241,280...|[-433.71830716746...|[1.0,1.3264933439...|       0.0|\n",
            "|  ham|'An Amazing Quote...|   143|  0.0|['an, amazing, qu...|['an, amazing, qu...|(13338,[59,153,21...|(13338,[59,153,21...|(13339,[59,153,21...|[-1254.3871025238...|[1.0,6.6431115767...|       0.0|\n",
            "|  ham|(You didn't hear ...|    28|  0.0|[(you, didn't, he...|   [(you, hear, me)]|(13338,[273,6006,...|(13338,[273,6006,...|(13339,[273,6006,...|[-264.47026049972...|[0.01223896069912...|       1.0|\n",
            "|  ham|* Thought I didn'...|    27|  0.0|[*, thought, i, d...|[*, thought, see,...|(13338,[30,63,170...|(13338,[30,63,170...|(13339,[30,63,170...|[-153.77990152783...|[0.99999999999999...|       0.0|\n",
            "|  ham|* Was a nice day ...|   140|  0.0|[*, was, a, nice,...|[*, nice, day, an...|(13338,[43,44,109...|(13338,[43,44,109...|(13339,[43,44,109...|[-974.80895541188...|[1.0,3.3635731544...|       0.0|\n",
            "|  ham|* Was thinking ab...|    92|  0.0|[*, was, thinking...|[*, thinking, chu...|(13338,[2,4,31,19...|(13338,[2,4,31,19...|(13339,[2,4,31,19...|[-948.25926493081...|[1.0,1.8184983705...|       0.0|\n",
            "|  ham|* Will have two m...|    67|  0.0|[*, will, have, t...|[*, two, cartons,...|(13338,[0,196,277...|(13338,[0,196,277...|(13339,[0,196,277...|[-408.72288933811...|[0.99949663969648...|       0.0|\n",
            "|  ham|* You gonna ring ...|    37|  0.0|[*, you, gonna, r...|[*, gonna, ring, ...|(13338,[120,196,4...|(13338,[120,196,4...|(13339,[120,196,4...|[-306.18922874837...|[0.99999999951445...|       0.0|\n",
            "|  ham|, ow u dey.i paid...|    55|  0.0|[,, ow, u, dey.i,...|[,, ow, u, dey.i,...|(13338,[0,1,3,9,1...|(13338,[0,1,3,9,1...|(13339,[0,1,3,9,1...|[-572.48986869473...|[0.99999999999984...|       0.0|\n",
            "|  ham|... Are you in th...|    23|  0.0|[..., are, you, i...|         [..., pub?]|(13338,[21,4669],...|(13338,[21,4669],...|(13339,[21,4669,1...|[-121.51938398525...|[0.99999999999333...|       0.0|\n",
            "|  ham|....photoshop mak...|    42|  0.0|[....photoshop, m...|[....photoshop, m...|(13338,[355,861,2...|(13338,[355,861,2...|(13339,[355,861,2...|[-391.34823169429...|[0.99999999981243...|       0.0|\n",
            "+-----+--------------------+------+-----+--------------------+--------------------+--------------------+--------------------+--------------------+--------------------+--------------------+----------+\n",
            "only showing top 20 rows\n",
            "\n"
          ]
        }
      ],
      "source": [
        "(training,testing) = clean_data.randomSplit([0.7,0.3])\n",
        "spam_predictor = nb.fit(training)\n",
        "test_results = spam_predictor.transform(testing)\n",
        "test_results.show()"
      ]
    },
    {
      "cell_type": "code",
      "execution_count": null,
      "metadata": {
        "colab": {
          "base_uri": "https://localhost:8080/"
        },
        "id": "Ru7ywiQigsAj",
        "outputId": "b15dc337-858e-41ab-bd25-26cfaab73f46"
      },
      "outputs": [
        {
          "output_type": "stream",
          "name": "stdout",
          "text": [
            "Accuracy of model at predicting spam was: 0.9172765709334049\n"
          ]
        }
      ],
      "source": [
        "from pyspark.ml.evaluation import MulticlassClassificationEvaluator\n",
        "acc_eval = MulticlassClassificationEvaluator()\n",
        "acc = acc_eval.evaluate(test_results)\n",
        "print(\"Accuracy of model at predicting spam was: {}\".format(acc))"
      ]
    },
    {
      "cell_type": "code",
      "execution_count": null,
      "metadata": {
        "id": "8Nlq2icxguxM"
      },
      "outputs": [],
      "source": [
        ""
      ]
    },
    {
      "cell_type": "code",
      "source": [
        ""
      ],
      "metadata": {
        "id": "L5w9kXjQTblV"
      },
      "execution_count": null,
      "outputs": []
    },
    {
      "cell_type": "code",
      "source": [
        ""
      ],
      "metadata": {
        "id": "NgRNkyEITbTu"
      },
      "execution_count": null,
      "outputs": []
    },
    {
      "cell_type": "code",
      "source": [
        ""
      ],
      "metadata": {
        "id": "j2rT4nbvTbQm"
      },
      "execution_count": null,
      "outputs": []
    },
    {
      "cell_type": "code",
      "source": [
        ""
      ],
      "metadata": {
        "id": "UlIGLJYYTbNY"
      },
      "execution_count": null,
      "outputs": []
    },
    {
      "cell_type": "code",
      "source": [
        ""
      ],
      "metadata": {
        "id": "GO_swgjFTbKX"
      },
      "execution_count": null,
      "outputs": []
    },
    {
      "cell_type": "code",
      "source": [
        ""
      ],
      "metadata": {
        "id": "70Ro4wbATbHU"
      },
      "execution_count": null,
      "outputs": []
    },
    {
      "cell_type": "code",
      "source": [
        ""
      ],
      "metadata": {
        "id": "q9DbeY72TbEQ"
      },
      "execution_count": null,
      "outputs": []
    },
    {
      "cell_type": "code",
      "source": [
        ""
      ],
      "metadata": {
        "id": "W-i6QmPJTbB2"
      },
      "execution_count": null,
      "outputs": []
    },
    {
      "cell_type": "code",
      "source": [
        ""
      ],
      "metadata": {
        "id": "EyBEl3g2Ta--"
      },
      "execution_count": null,
      "outputs": []
    },
    {
      "cell_type": "code",
      "source": [
        ""
      ],
      "metadata": {
        "id": "HfTk_uXFTa8a"
      },
      "execution_count": null,
      "outputs": []
    }
  ],
  "metadata": {
    "colab": {
      "name": "Car_Price_Prediction.ipynb",
      "provenance": []
    },
    "kernelspec": {
      "display_name": "Python 3",
      "name": "python3"
    },
    "language_info": {
      "name": "python"
    }
  },
  "nbformat": 4,
  "nbformat_minor": 0
}